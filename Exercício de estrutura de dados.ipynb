{
  "nbformat": 4,
  "nbformat_minor": 0,
  "metadata": {
    "colab": {
      "provenance": [],
      "toc_visible": true
    },
    "kernelspec": {
      "name": "python3",
      "display_name": "Python 3"
    }
  },
  "cells": [
    {
      "cell_type": "markdown",
      "metadata": {
        "id": "KJqp9AANOCtf"
      },
      "source": [
        "<img src=\"https://raw.githubusercontent.com/andre-marcos-perez/ebac-course-utils/main/media/logo/newebac_logo_black_half.png\" alt=\"ebac-logo\">\n",
        "\n",
        "---\n",
        "\n",
        "# **Módulo 02** | Python: Estruturas de Dados\n",
        "Caderno de **Exercícios**<br> \n",
        "Professor [André Perez](https://www.linkedin.com/in/andremarcosperez/)\n",
        "\n",
        "---"
      ]
    },
    {
      "cell_type": "markdown",
      "metadata": {
        "id": "d9jDtUbDOE1-"
      },
      "source": [
        "# **Tópicos**\n",
        "\n",
        "<ol type=\"1\">\n",
        "  <li>Listas;</li>\n",
        "  <li>Conjuntos;</li>\n",
        "  <li>Dicionários.</li>\n",
        "</ol>"
      ]
    },
    {
      "cell_type": "markdown",
      "metadata": {
        "id": "SmoHgt-lwkpD"
      },
      "source": [
        "---"
      ]
    },
    {
      "cell_type": "markdown",
      "metadata": {
        "id": "GABI6OW8OfQ2"
      },
      "source": [
        "# **Exercícios**"
      ]
    },
    {
      "cell_type": "markdown",
      "metadata": {
        "id": "muD1vxozykSC"
      },
      "source": [
        "## 1\\. Listas"
      ]
    },
    {
      "cell_type": "markdown",
      "metadata": {
        "id": "ahrFfCuBxJKs"
      },
      "source": [
        "Criei uma lista chamada `filmes` com o nome dos 10 primeiros filmes mais bem avaliados no site no [IMDB](https://www.imdb.com/chart/top/). Imprima o resultado."
      ]
    },
    {
      "cell_type": "code",
      "metadata": {
        "id": "OgL6Hv3bzOHI",
        "colab": {
          "base_uri": "https://localhost:8080/"
        },
        "outputId": "139a61f2-e97b-433c-afa3-8abc73ec5ff9"
      },
      "source": [
        "# Na data 16/11/2022 a lista em ordem crescente de posição é:\n",
        "\n",
        "filmes = [\n",
        "    'Um Sonho de Liberdade (1994) - nota: 9,2',\n",
        "    'O Poderoso Chefão (1972) - nota: 9,2',\n",
        "    'Batman: O Cavaleiro das Trevas (2008) - nota: 9,0',\n",
        "    'O Poderoso Chefão II (1974) - nota: 9,0',\n",
        "    'Homens e uma Sentença (1957) - nota: 9.0',\n",
        "    'A lista de Schindler (1993) - nota: 8.9',\n",
        "    'O Senhor dos Anéis: O Retorno do Rei (2003) - nota: 8,9',\n",
        "    'Pulp Fiction: O Tempo de violência (1994) - nota: 8.8',\n",
        "    'O Senhor dos Aneis: A Sociedade do Anel (2001) - nota: 8,8',\n",
        "    'Três Homens em Conflito (1966) - nota: 8.8'\n",
        "]\n",
        "\n",
        "print(filmes)"
      ],
      "execution_count": 1,
      "outputs": [
        {
          "output_type": "stream",
          "name": "stdout",
          "text": [
            "['Um Sonho de Liberdade (1994) - nota: 9,2', 'O Poderoso Chefão (1972) - nota: 9,2', 'Batman: O Cavaleiro das Trevas (2008) - nota: 9,0', 'O Poderoso Chefão II (1974) - nota: 9,0', 'Homens e uma Sentença (1957) - nota: 9.0', 'A lista de Schindler (1993) - nota: 8.9', 'O Senhor dos Anéis: O Retorno do Rei (2003) - nota: 8,9', 'Pulp Fiction: O Tempo de violência (1994) - nota: 8.8', 'O Senhor dos Aneis: A Sociedade do Anel (2001) - nota: 8,8', 'Três Homens em Conflito (1966) - nota: 8.8']\n"
          ]
        }
      ]
    },
    {
      "cell_type": "markdown",
      "metadata": {
        "id": "KI9zQRT2xa7m"
      },
      "source": [
        "Simule a movimentação do *ranking*. Utilize os métodos `insert` e `pop` para trocar a posição do primeiro e do segundo filme da lista. Imprima o resultado.\n",
        "\n"
      ]
    },
    {
      "cell_type": "code",
      "metadata": {
        "id": "zX3mA3_GzrXH",
        "colab": {
          "base_uri": "https://localhost:8080/"
        },
        "outputId": "68177836-5052-479f-fb29-b3cb130ef26c"
      },
      "source": [
        "filmes = [\n",
        "    'Um Sonho de Liberdade (1994) - nota: 9,2',\n",
        "    'O Poderoso Chefão (1972) - nota: 9,2',\n",
        "    'Batman: O Cavaleiro das Trevas (2008) - nota: 9,0',\n",
        "    'O Poderoso Chefão II (1974) - nota: 9,0',\n",
        "    'Homens e uma Sentença (1957) - nota: 9.0',\n",
        "    'A lista de Schindler (1993) - nota: 8.9',\n",
        "    'O Senhor dos Anéis: O Retorno do Rei (2003) - nota: 8,9',\n",
        "    'Pulp Fiction: O Tempo de violência (1994) - nota: 8.8',\n",
        "    'O Senhor dos Aneis: A Sociedade do Anel (2001) - nota: 8,8',\n",
        "    'Três Homens em Conflito (1966) - nota: 8.8'\n",
        "]\n",
        "\n",
        "# Vamos supor que a 1º posição caiu para a 4º e a 2º caiu para a última. \n",
        "# Precisamos, inicialmente, fazer retirada dos filmes da lista a usando o método pop() e adicioná-los, posteriormente, usando o método insert():\n",
        "\n",
        "# Pode colocar filmes.pop(0) em uma variável ou não. Nesse caso não vou colocar.\n",
        "filmes.pop(0)\n",
        "\n",
        "# Uma observação importante!\n",
        "# Para que seja removido o segundo filme da lista inicial, como foi pedido no exercício, temos que remover a posição zero duas vezes\n",
        "# A primeira vez foi a remover  o primeiro filme. a partir daí o segundo assumiu o valor do primeiro. Por isso usei este método duas vezes\n",
        "filmes.pop(0)\n",
        "\n",
        "# Agora reinsere-se os filmes usando o método insert()\n",
        "filmes.insert(4, 'Um Sonho de Liberdade (1994) nota: 9.2')\n",
        "filmes.insert(9, 'O Poderoso Chefão (1972) - nota: 9,2')\n",
        "\n",
        "print(filmes)\n",
        "\n"
      ],
      "execution_count": 2,
      "outputs": [
        {
          "output_type": "stream",
          "name": "stdout",
          "text": [
            "['Batman: O Cavaleiro das Trevas (2008) - nota: 9,0', 'O Poderoso Chefão II (1974) - nota: 9,0', 'Homens e uma Sentença (1957) - nota: 9.0', 'A lista de Schindler (1993) - nota: 8.9', 'Um Sonho de Liberdade (1994) nota: 9.2', 'O Senhor dos Anéis: O Retorno do Rei (2003) - nota: 8,9', 'Pulp Fiction: O Tempo de violência (1994) - nota: 8.8', 'O Senhor dos Aneis: A Sociedade do Anel (2001) - nota: 8,8', 'Três Homens em Conflito (1966) - nota: 8.8', 'O Poderoso Chefão (1972) - nota: 9,2']\n"
          ]
        }
      ]
    },
    {
      "cell_type": "markdown",
      "metadata": {
        "id": "zMN1Q3jdwoJm"
      },
      "source": [
        "---"
      ]
    },
    {
      "cell_type": "markdown",
      "metadata": {
        "id": "lxa5L6uF0ZJE"
      },
      "source": [
        "## 2\\. Conjuntos"
      ]
    },
    {
      "cell_type": "markdown",
      "metadata": {
        "id": "9JahS2Kj0d5u"
      },
      "source": [
        "Aconteceu um erro no seu *ranking*. Simule a duplicação dos três últimos filmes da lista. Imprima o resultado."
      ]
    },
    {
      "cell_type": "code",
      "metadata": {
        "id": "BnjnLBNC6PGe",
        "colab": {
          "base_uri": "https://localhost:8080/"
        },
        "outputId": "cb0c53e1-fda9-4622-b6ef-38c3998a1688"
      },
      "source": [
        "# Lista com a duplicação pedida\n",
        "\n",
        "filmes = [\n",
        "    'Um Sonho de Liberdade (1994) - nota: 9,2',\n",
        "    'O Poderoso Chefão (1972) - nota: 9,2',\n",
        "    'Batman: O Cavaleiro das Trevas (2008) - nota: 9,0',\n",
        "    'O Poderoso Chefão II (1974) - nota: 9,0',\n",
        "    'Homens e uma Sentença (1957) - nota: 9.0',\n",
        "    'A lista de Schindler (1993) - nota: 8.9',\n",
        "    'O Senhor dos Anéis: O Retorno do Rei (2003) - nota: 8,9',\n",
        "    'Pulp Fiction: O Tempo de violência (1994) - nota: 8.8',\n",
        "    'Pulp Fiction: O Tempo de violência (1994) - nota: 8.8',\n",
        "    'O Senhor dos Aneis: A Sociedade do Anel (2001) - nota: 8,8',\n",
        "    'O Senhor dos Aneis: A Sociedade do Anel (2001) - nota: 8,8',\n",
        "    'Três Homens em Conflito (1966) - nota: 8.8'\n",
        "    'Três Homens em Conflito (1966) - nota: 8.8'\n",
        "]\n",
        "\n",
        "print(filmes)"
      ],
      "execution_count": 3,
      "outputs": [
        {
          "output_type": "stream",
          "name": "stdout",
          "text": [
            "['Um Sonho de Liberdade (1994) - nota: 9,2', 'O Poderoso Chefão (1972) - nota: 9,2', 'Batman: O Cavaleiro das Trevas (2008) - nota: 9,0', 'O Poderoso Chefão II (1974) - nota: 9,0', 'Homens e uma Sentença (1957) - nota: 9.0', 'A lista de Schindler (1993) - nota: 8.9', 'O Senhor dos Anéis: O Retorno do Rei (2003) - nota: 8,9', 'Pulp Fiction: O Tempo de violência (1994) - nota: 8.8', 'Pulp Fiction: O Tempo de violência (1994) - nota: 8.8', 'O Senhor dos Aneis: A Sociedade do Anel (2001) - nota: 8,8', 'O Senhor dos Aneis: A Sociedade do Anel (2001) - nota: 8,8', 'Três Homens em Conflito (1966) - nota: 8.8Três Homens em Conflito (1966) - nota: 8.8']\n"
          ]
        }
      ]
    },
    {
      "cell_type": "markdown",
      "metadata": {
        "id": "suxTfCJB6ZiX"
      },
      "source": [
        "Utiliza a conversão `set` e `list` para remover os valores duplicados. Imprima o resultado. "
      ]
    },
    {
      "cell_type": "code",
      "metadata": {
        "id": "ZvUGN-0n6joM",
        "colab": {
          "base_uri": "https://localhost:8080/"
        },
        "outputId": "5c283374-8acd-46c2-8fde-e804ad368f78"
      },
      "source": [
        "# Para resolver o problema basta fazer a conversão da lista para um conjunto(set) para eliminar os valores duplicados\n",
        "\n",
        "filmes_sem_duplicacao = set(filmes)\n",
        "\n",
        "# Converte de set() para list()\n",
        "\n",
        "filmes = list(filmes_sem_duplicacao)\n",
        "\n",
        "print(filmes)\n",
        "\n",
        "# Observação, nesse caso temos um problema. Como conjuntos não possui uma ordenação os valores podemm ser trocados de posição e ao final termos um erro na ordenação da róxima lista"
      ],
      "execution_count": 5,
      "outputs": [
        {
          "output_type": "stream",
          "name": "stdout",
          "text": [
            "['Batman: O Cavaleiro das Trevas (2008) - nota: 9,0', 'O Poderoso Chefão II (1974) - nota: 9,0', 'O Poderoso Chefão (1972) - nota: 9,2', 'Um Sonho de Liberdade (1994) - nota: 9,2', 'Pulp Fiction: O Tempo de violência (1994) - nota: 8.8', 'O Senhor dos Aneis: A Sociedade do Anel (2001) - nota: 8,8', 'Três Homens em Conflito (1966) - nota: 8.8Três Homens em Conflito (1966) - nota: 8.8', 'O Senhor dos Anéis: O Retorno do Rei (2003) - nota: 8,9', 'A lista de Schindler (1993) - nota: 8.9', 'Homens e uma Sentença (1957) - nota: 9.0']\n"
          ]
        }
      ]
    },
    {
      "cell_type": "markdown",
      "metadata": {
        "id": "ShkK35eQ6pAM"
      },
      "source": [
        "---"
      ]
    },
    {
      "cell_type": "markdown",
      "metadata": {
        "id": "EL_FzmxL6rTv"
      },
      "source": [
        "## 3\\. Dicionários"
      ]
    },
    {
      "cell_type": "markdown",
      "metadata": {
        "id": "i8l0gFqRCpfT"
      },
      "source": [
        "Repita os exercícios da parte 1 (listas). Os elementos da lista `filmes` devem ser dicionários no seguinte formato: `{'nome': <nome-do-filme>, 'ano': <ano do filme>}, 'sinopse': <sinopse do filme>}`. "
      ]
    },
    {
      "cell_type": "code",
      "source": [
        "# Separei as keys de acordo com aposição do filme no rank do IMDB. Todos as informações podem =ser acessadas pela posição. Achei mais organizado (aos olhos) dessa forma\n",
        "\n",
        "filmes = {\n",
        "    'Posição 1': {'nome': 'Um Sonho de Liberdade', \n",
        "                  'ano': 1994, \n",
        "                  'sinopse': 'Andy Dufresne é condenado a duas prisões perpétuas consecutivas pelas mortes de sua esposa e de seu amante. Porém, só Andy sabe que ele não cometeu os crimes. '\n",
        "                             'No presídio, durante dezenove anos, ele faz amizade com Red, sofre as brutalidades da vida na cadeia, se adapta, ajuda os carcereiros, etc. '},\n",
        "          \n",
        "    'Posção 2': {'nome': 'O Poderoso Chefão',\n",
        "                 'ano': 1972,\n",
        "                 'sinopse': 'Uma família mafiosa luta para estabelecer sua supremacia nos Estados Unidos '\n",
        "                             'depois da Segunda Guerra Mundial. Uma tentativa de assassinato deixa o chefão Vito Corleone incapacitado e força os filhos Michael e Sonny a assumir os negócios.'},\n",
        "          \n",
        "    'Posção 3': {'nome': 'Batman: O Cavaleiro das Trevas', \n",
        "                 'ano': 1972,\n",
        "                 'sinopse':'Com a ajuda de Jim Gordon e Harvey Dent, Batman tem mantido a ordem na cidade de Gotham. Mas um jovem e anárquico criminoso conhecido como Coringa ganha '\n",
        "                           'força e decide instaurar um verdadeiro caos na cidade. O justiceiro será testado psicologicamente e fisicamente como nunca fora antes em um confronto bastante pessoal.'\n",
        "                           'Cabe a Batman encontrar uma maneira de deter o sádico vilão antes que mais vidas sejam perdidas.'},\n",
        "          \n",
        "    'Posção 4': {'nome': 'O Poderoso Chefão II',\n",
        "                 'ano': 1957,\n",
        "                 'sinopse': 'Depois da máfia matar sua família, o jovem Vito foge da sua cidade na Sicília e vai para os Estados Unidos. Lá, ele assassina Black Hand Fanucci, '\n",
        "                            'que exigia dos comerciantes uma parte dos seus ganhos. Com a morte de Fanucci, o poder de Vito cresce, mas sua família é o que mais importa para ele.' \n",
        "                            'Morando agora no Lago Tahoe, Michael planeja fazer incursões em Las Vegas e Havana com negócios ligados ao lazer, mas descobre que aliados como Hyman Roth estão tentando matá-lo.'},\n",
        "          \n",
        "    'Posção 5': {'nome': 'Homens e uma Sentença',\n",
        "                 'ano': 1974,\n",
        "                 'sinopse': 'Seguindo o encerramento do caso do julgamento do assassinato cometido por um adolescente, os membros do júri devem chegar a um consenso sobre qual será o veredito. Enquanto os 12 indivíduos'\n",
        "                            'estão fechados em uma sala para tomar uma decisão, onze deles votam pela condenação do réu, porém um deles acredita na inocência do jovem e tenta convencer os outros a mudarem seus votos, '\n",
        "                            'dando início a um conflito que ameaça inviabilizar o delicado processo que vai decidir o destino do acusado.'},\n",
        "          \n",
        "    'Posção 6': {'nome': 'A lista de Schindler',\n",
        "                 'ano': 1993, \n",
        "                 'sinopse': 'O alemão Oskar Schindler viu na mão de obra judia uma solução barata e viável para lucrar com negócios durante a guerra. Com sua forte influência dentro do partido nazista, foi fácil'\n",
        "                            'conseguir as autorizações e abrir uma fábrica. O que poderia parecer uma atitude de um homem não muito bondoso, transformou-se em um dos maiores casos de amor à vida da História, pois' \n",
        "                            'este alemão abdicou de toda sua fortuna para salvar a vida de mais de mil judeus em plena luta contra o extermínio alemão.'},\n",
        "\n",
        "    'Posção 7': {'nome': 'O Senhor dos Anéis: O Retorno do Rei', \n",
        "                 'ano': 2003, \n",
        "                 'sinopse': 'O confronto final entre as forças do bem e do mal que lutam pelo controle do futuro da Terra Média se aproxima. Sauron planeja um grande ataque a Minas Tirith, capital de Gondor,' \n",
        "                            'o que faz com que Gandalf e Pippin partam para o local na intenção de ajudar a resistência. Um exército é reunido por Theoden em Rohan, em mais uma tentativa de deter as forças '\n",
        "                            'de Sauron. Enquanto isso, Frodo, Sam e Gollum seguem sua viagem rumo à Montanha da Perdição para destruir o anel.'},\n",
        "          \n",
        "    'Posção 8': {'nome': 'Pulp Fiction: O Tempo de violência',\n",
        "                 'ano': 1994, \n",
        "                 'sinopse': 'Assassino que trabalha para a máfia se apaixona pela esposa de seu chefe quando é convidado a acompanhá-la, um boxeador descumpre sua promessa de perder uma luta e um casal tenta um assalto que rapidamente sai do controle.'},\n",
        "          \n",
        "    'Posção 9': {'nome': 'O Senhor dos Aneis: A Sociedade do Anel',\n",
        "                 'ano': 2001, \n",
        "                 'sinopse': 'Em uma terra fantástica e única, um hobbit recebe de presente de seu tio um anel mágico e maligno que precisa ser destruído antes que caia nas mãos do mal. Para isso, o hobbit Frodo tem um caminho árduo pela frente, '\n",
        "                            'onde encontra perigo, medo e seres bizarros. Ao seu lado para o cumprimento desta jornada, ele aos poucos pode contar com outros hobbits, um elfo, um anão, dois humanos e um mago, totalizando nove seres que formam a Sociedade do Anel.'},\n",
        "          \n",
        "    'Posção 10': {'nome': 'Três Homens em Conflito',\n",
        "                  'ano': 1966, \n",
        "                  'sinopse': 'Nos Estados Unidos, durante a Guerra de Secessão, um pistoleiro misterioso tenta trabalhar em conjunto com um bandido e um caçador de recompensas para encontrar um tesouro escondido. Os homens '\n",
        "                            'são obrigados a forjar uma difícil aliança visto que cada um conhece apenas uma parte da localização da fortuna. O problema é que nenhum deles tem a intenção de dividir a riqueza.'}\n",
        "}\n",
        "\n",
        "print(filmes)\n",
        "\n"
      ],
      "metadata": {
        "colab": {
          "base_uri": "https://localhost:8080/"
        },
        "id": "g6kzecoSz6ov",
        "outputId": "363f886e-f723-4441-da9b-6072ea95ff49"
      },
      "execution_count": 1,
      "outputs": [
        {
          "output_type": "stream",
          "name": "stdout",
          "text": [
            "{'Posição 1': {'nome': 'Um Sonho de Liberdade', 'ano': 1994, 'sinopse': 'Andy Dufresne é condenado a duas prisões perpétuas consecutivas pelas mortes de sua esposa e de seu amante. Porém, só Andy sabe que ele não cometeu os crimes. No presídio, durante dezenove anos, ele faz amizade com Red, sofre as brutalidades da vida na cadeia, se adapta, ajuda os carcereiros, etc. '}, 'Posção 2': {'nome': 'O Poderoso Chefão', 'ano': 1972, 'sinopse': 'Uma família mafiosa luta para estabelecer sua supremacia nos Estados Unidos depois da Segunda Guerra Mundial. Uma tentativa de assassinato deixa o chefão Vito Corleone incapacitado e força os filhos Michael e Sonny a assumir os negócios.'}, 'Posção 3': {'nome': 'Batman: O Cavaleiro das Trevas', 'ano': 1972, 'sinopse': 'Com a ajuda de Jim Gordon e Harvey Dent, Batman tem mantido a ordem na cidade de Gotham. Mas um jovem e anárquico criminoso conhecido como Coringa ganha força e decide instaurar um verdadeiro caos na cidade. O justiceiro será testado psicologicamente e fisicamente como nunca fora antes em um confronto bastante pessoal.Cabe a Batman encontrar uma maneira de deter o sádico vilão antes que mais vidas sejam perdidas.'}, 'Posção 4': {'nome': 'O Poderoso Chefão II', 'ano': 1957, 'sinopse': 'Depois da máfia matar sua família, o jovem Vito foge da sua cidade na Sicília e vai para os Estados Unidos. Lá, ele assassina Black Hand Fanucci, que exigia dos comerciantes uma parte dos seus ganhos. Com a morte de Fanucci, o poder de Vito cresce, mas sua família é o que mais importa para ele.Morando agora no Lago Tahoe, Michael planeja fazer incursões em Las Vegas e Havana com negócios ligados ao lazer, mas descobre que aliados como Hyman Roth estão tentando matá-lo.'}, 'Posção 5': {'nome': 'Homens e uma Sentença', 'ano': 1974, 'sinopse': 'Seguindo o encerramento do caso do julgamento do assassinato cometido por um adolescente, os membros do júri devem chegar a um consenso sobre qual será o veredito. Enquanto os 12 indivíduosestão fechados em uma sala para tomar uma decisão, onze deles votam pela condenação do réu, porém um deles acredita na inocência do jovem e tenta convencer os outros a mudarem seus votos, dando início a um conflito que ameaça inviabilizar o delicado processo que vai decidir o destino do acusado.'}, 'Posção 6': {'nome': 'A lista de Schindler', 'ano': 1993, 'sinopse': 'O alemão Oskar Schindler viu na mão de obra judia uma solução barata e viável para lucrar com negócios durante a guerra. Com sua forte influência dentro do partido nazista, foi fácilconseguir as autorizações e abrir uma fábrica. O que poderia parecer uma atitude de um homem não muito bondoso, transformou-se em um dos maiores casos de amor à vida da História, poiseste alemão abdicou de toda sua fortuna para salvar a vida de mais de mil judeus em plena luta contra o extermínio alemão.'}, 'Posção 7': {'nome': 'O Senhor dos Anéis: O Retorno do Rei', 'ano': 2003, 'sinopse': 'O confronto final entre as forças do bem e do mal que lutam pelo controle do futuro da Terra Média se aproxima. Sauron planeja um grande ataque a Minas Tirith, capital de Gondor,o que faz com que Gandalf e Pippin partam para o local na intenção de ajudar a resistência. Um exército é reunido por Theoden em Rohan, em mais uma tentativa de deter as forças de Sauron. Enquanto isso, Frodo, Sam e Gollum seguem sua viagem rumo à Montanha da Perdição para destruir o anel.'}, 'Posção 8': {'nome': 'Pulp Fiction: O Tempo de violência', 'ano': 1994, 'sinopse': 'Assassino que trabalha para a máfia se apaixona pela esposa de seu chefe quando é convidado a acompanhá-la, um boxeador descumpre sua promessa de perder uma luta e um casal tenta um assalto que rapidamente sai do controle.'}, 'Posção 9': {'nome': 'O Senhor dos Aneis: A Sociedade do Anel', 'ano': 2001, 'sinopse': 'Em uma terra fantástica e única, um hobbit recebe de presente de seu tio um anel mágico e maligno que precisa ser destruído antes que caia nas mãos do mal. Para isso, o hobbit Frodo tem um caminho árduo pela frente, onde encontra perigo, medo e seres bizarros. Ao seu lado para o cumprimento desta jornada, ele aos poucos pode contar com outros hobbits, um elfo, um anão, dois humanos e um mago, totalizando nove seres que formam a Sociedade do Anel.'}, 'Posção 10': {'nome': 'Três Homens em Conflito', 'ano': 1966, 'sinopse': 'Nos Estados Unidos, durante a Guerra de Secessão, um pistoleiro misterioso tenta trabalhar em conjunto com um bandido e um caçador de recompensas para encontrar um tesouro escondido. Os homens são obrigados a forjar uma difícil aliança visto que cada um conhece apenas uma parte da localização da fortuna. O problema é que nenhum deles tem a intenção de dividir a riqueza.'}}\n"
          ]
        }
      ]
    }
  ]
}