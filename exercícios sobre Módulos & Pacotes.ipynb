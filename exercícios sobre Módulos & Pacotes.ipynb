{
  "cells": [
    {
      "cell_type": "markdown",
      "metadata": {
        "id": "KJqp9AANOCtf"
      },
      "source": [
        "<img src=\"https://raw.githubusercontent.com/andre-marcos-perez/ebac-course-utils/main/media/logo/newebac_logo_black_half.png\" alt=\"ebac-logo\">\n",
        "\n",
        "---\n",
        "\n",
        "# **Módulo 07** | Python: Programação Orientada a Objetos\n",
        "Caderno de **Exercícios**<br> \n",
        "Professor [André Perez](https://www.linkedin.com/in/andremarcosperez/)\n",
        "\n",
        "---"
      ]
    },
    {
      "cell_type": "markdown",
      "metadata": {
        "id": "d9jDtUbDOE1-"
      },
      "source": [
        "# **Tópicos**\n",
        "\n",
        "<ol type=\"1\">\n",
        "  <li>from / import / as;</li>\n",
        "  <li>Módulo;</li>\n",
        "  <li>Pacote;</li>\n",
        "  <li>Baixando pacotes.</li>\n",
        "</ol>"
      ]
    },
    {
      "cell_type": "markdown",
      "metadata": {
        "id": "SmoHgt-lwkpD"
      },
      "source": [
        "---"
      ]
    },
    {
      "cell_type": "markdown",
      "metadata": {
        "id": "GABI6OW8OfQ2"
      },
      "source": [
        "# **Exercícios**"
      ]
    },
    {
      "cell_type": "markdown",
      "metadata": {
        "id": "muD1vxozykSC"
      },
      "source": [
        "## 0\\. Preparação do ambiente"
      ]
    },
    {
      "cell_type": "markdown",
      "metadata": {
        "id": "ahrFfCuBxJKs"
      },
      "source": [
        "Neste exercício vamos utilizar a base de dados de ações da bolsa de valores dos EUA, a Dow Jones. Os dados estão disponíveis para *download* neste [link](https://archive.ics.uci.edu/ml/datasets/Dow+Jones+Index). Vamos utilizar o pacote `wget` para fazer o *download* dos dados."
      ]
    },
    {
      "cell_type": "markdown",
      "metadata": {
        "id": "AtPc2994meNR"
      },
      "source": [
        " - Instalando o pacote `wget` na versão 3.2."
      ]
    },
    {
      "cell_type": "code",
      "execution_count": 109,
      "metadata": {
        "colab": {
          "base_uri": "https://localhost:8080/"
        },
        "id": "DzM3--8Gk_mU",
        "outputId": "2c8865ed-7135-49af-af83-60c2492f7e83"
      },
      "outputs": [
        {
          "output_type": "stream",
          "name": "stdout",
          "text": [
            "Looking in indexes: https://pypi.org/simple, https://us-python.pkg.dev/colab-wheels/public/simple/\n",
            "Requirement already satisfied: wget==3.2 in /usr/local/lib/python3.7/dist-packages (3.2)\n"
          ]
        }
      ],
      "source": [
        "!pip install wget==3.2"
      ]
    },
    {
      "cell_type": "markdown",
      "metadata": {
        "id": "tVc1aUTmmkIU"
      },
      "source": [
        " - Fazendo o download dos dados no arquivo compactado `dados.zip`."
      ]
    },
    {
      "cell_type": "code",
      "execution_count": 110,
      "metadata": {
        "colab": {
          "base_uri": "https://localhost:8080/",
          "height": 35
        },
        "id": "SZWlsi2blOOt",
        "outputId": "49daaef8-6eb4-4067-e189-a563b19aae59"
      },
      "outputs": [
        {
          "output_type": "execute_result",
          "data": {
            "text/plain": [
              "'./dados (1).zip'"
            ],
            "application/vnd.google.colaboratory.intrinsic+json": {
              "type": "string"
            }
          },
          "metadata": {},
          "execution_count": 110
        }
      ],
      "source": [
        "import wget\n",
        "\n",
        "wget.download(url='https://archive.ics.uci.edu/ml/machine-learning-databases/00312/dow_jones_index.zip', out='./dados.zip')"
      ]
    },
    {
      "cell_type": "markdown",
      "metadata": {
        "id": "339oiie2mvCP"
      },
      "source": [
        " - Descompactando os `dados` na pasta dados com o pacote nativo `zipfile`."
      ]
    },
    {
      "cell_type": "code",
      "execution_count": 111,
      "metadata": {
        "id": "6tFPV081loK4"
      },
      "outputs": [],
      "source": [
        "import zipfile\n",
        "\n",
        "with zipfile.ZipFile('./dados.zip', 'r') as fp:\n",
        "  fp.extractall('./dados')"
      ]
    },
    {
      "cell_type": "markdown",
      "metadata": {
        "id": "KI9zQRT2xa7m"
      },
      "source": [
        "Verifique a pasta dados criada, ela deve conter dois arquivos:\n",
        "\n",
        " - **dow_jones_index.data**: um arquivo com os dados;\n",
        " - **dow_jones_index.names**: um arquivo com a descrição completa dos dados.\n",
        "\n",
        "É possível observar que o arquivo de dados é um arquivo separado por virgulas, o famoso `csv`. Vamos renomear o arquivo de dados para que ele tenha a extensão `csv` com o pacote nativo `os`."
      ]
    },
    {
      "cell_type": "markdown",
      "metadata": {
        "id": "5k7LLQU5n8aY"
      },
      "source": [
        "- Renomeando o arquivo com o pacote nativo `os`."
      ]
    },
    {
      "cell_type": "code",
      "execution_count": 112,
      "metadata": {
        "id": "PyZ2zqwcn5CU"
      },
      "outputs": [],
      "source": [
        "import os\n",
        "\n",
        "os.rename('./dados/dow_jones_index.data', './dados/dow_jones_index.csv')"
      ]
    },
    {
      "cell_type": "code",
      "execution_count": 113,
      "metadata": {
        "colab": {
          "base_uri": "https://localhost:8080/"
        },
        "id": "-zonmG_ZrFf_",
        "outputId": "4d4478d5-3cd3-48b9-f127-5c7a20f56bc3"
      },
      "outputs": [
        {
          "output_type": "stream",
          "name": "stdout",
          "text": [
            "Drive already mounted at /content/drive; to attempt to forcibly remount, call drive.mount(\"/content/drive\", force_remount=True).\n"
          ]
        }
      ],
      "source": [
        "from google.colab import drive\n",
        "drive.mount('/content/drive')"
      ]
    },
    {
      "cell_type": "markdown",
      "metadata": {
        "id": "2Zf74P1yoeYc"
      },
      "source": [
        "Pronto! Abra o arquivo e o Google Colab irá apresentar uma visualização bem legal dos dados."
      ]
    },
    {
      "cell_type": "markdown",
      "metadata": {
        "id": "zMN1Q3jdwoJm"
      },
      "source": [
        "---"
      ]
    },
    {
      "cell_type": "markdown",
      "metadata": {
        "id": "FwqgmwxakNh6"
      },
      "source": [
        "## 1\\. Pandas"
      ]
    },
    {
      "cell_type": "markdown",
      "metadata": {
        "id": "It_mfyHzkRJ8"
      },
      "source": [
        "Para processar os dados, vamos utilizar o pacote `pandas` na versão `1.1.5`. A documentação completa por ser encontrada neste [link](https://pandas.pydata.org/docs/)"
      ]
    },
    {
      "cell_type": "code",
      "execution_count": 114,
      "metadata": {
        "colab": {
          "base_uri": "https://localhost:8080/"
        },
        "id": "DF3DkjPjpn1X",
        "outputId": "c8494f12-273d-4f4d-c95e-1919f3dd4eee"
      },
      "outputs": [
        {
          "output_type": "stream",
          "name": "stdout",
          "text": [
            "Looking in indexes: https://pypi.org/simple, https://us-python.pkg.dev/colab-wheels/public/simple/\n",
            "Requirement already satisfied: pandas==1.1.5 in /usr/local/lib/python3.7/dist-packages (1.1.5)\n",
            "Requirement already satisfied: pytz>=2017.2 in /usr/local/lib/python3.7/dist-packages (from pandas==1.1.5) (2022.6)\n",
            "Requirement already satisfied: python-dateutil>=2.7.3 in /usr/local/lib/python3.7/dist-packages (from pandas==1.1.5) (2.8.2)\n",
            "Requirement already satisfied: numpy>=1.15.4 in /usr/local/lib/python3.7/dist-packages (from pandas==1.1.5) (1.21.6)\n",
            "Requirement already satisfied: six>=1.5 in /usr/local/lib/python3.7/dist-packages (from python-dateutil>=2.7.3->pandas==1.1.5) (1.15.0)\n"
          ]
        }
      ],
      "source": [
        "!pip install pandas==1.1.5"
      ]
    },
    {
      "cell_type": "markdown",
      "metadata": {
        "id": "CqVcTZE-wyBt"
      },
      "source": [
        "Vamos importar o pacote com o apelido (alias) `pd`."
      ]
    },
    {
      "cell_type": "code",
      "execution_count": 115,
      "metadata": {
        "id": "qjA_H6WapxK3"
      },
      "outputs": [],
      "source": [
        "import pandas as pd"
      ]
    },
    {
      "cell_type": "markdown",
      "metadata": {
        "id": "KFQ77on-w0Fo"
      },
      "source": [
        "Estamos prontos para ler o arquivo."
      ]
    },
    {
      "cell_type": "code",
      "execution_count": 116,
      "metadata": {
        "id": "-1yL07iwqWk3"
      },
      "outputs": [],
      "source": [
        "df = pd.read_csv('./dados/dow_jones_index.csv')"
      ]
    },
    {
      "cell_type": "markdown",
      "metadata": {
        "id": "mnLvLSWCxGt_"
      },
      "source": [
        "O pandas trabalha com o conceito de dataframe, uma estrutura de dados com muitos métodos e atributos que aceleram o processamento de dados. Alguns exemplos:"
      ]
    },
    {
      "cell_type": "markdown",
      "metadata": {
        "id": "rf6pevg7xIuQ"
      },
      "source": [
        " - Visualizando as `n` primeiras linhas:"
      ]
    },
    {
      "cell_type": "code",
      "execution_count": 117,
      "metadata": {
        "colab": {
          "base_uri": "https://localhost:8080/",
          "height": 363
        },
        "id": "fqF7AQvRqn69",
        "outputId": "929a1a17-6b1c-4bc6-994a-34c37188b2d1"
      },
      "outputs": [
        {
          "output_type": "execute_result",
          "data": {
            "text/plain": [
              "   quarter stock       date    open    high     low   close     volume  \\\n",
              "0        1    AA   1/7/2011  $15.82  $16.72  $15.78  $16.42  239655616   \n",
              "1        1    AA  1/14/2011  $16.71  $16.71  $15.64  $15.97  242963398   \n",
              "2        1    AA  1/21/2011  $16.19  $16.38  $15.60  $15.79  138428495   \n",
              "3        1    AA  1/28/2011  $15.87  $16.63  $15.82  $16.13  151379173   \n",
              "4        1    AA   2/4/2011  $16.18  $17.39  $16.18  $17.14  154387761   \n",
              "5        1    AA  2/11/2011  $17.33  $17.48  $16.97  $17.37  114691279   \n",
              "6        1    AA  2/18/2011  $17.39  $17.68  $17.28  $17.28   80023895   \n",
              "7        1    AA  2/25/2011  $16.98  $17.15  $15.96  $16.68  132981863   \n",
              "8        1    AA   3/4/2011  $16.81  $16.94  $16.13  $16.58  109493077   \n",
              "9        1    AA  3/11/2011  $16.58  $16.75  $15.42  $16.03  114332562   \n",
              "\n",
              "   percent_change_price  percent_change_volume_over_last_wk  \\\n",
              "0              3.792670                                 NaN   \n",
              "1             -4.428490                            1.380223   \n",
              "2             -2.470660                          -43.024959   \n",
              "3              1.638310                            9.355500   \n",
              "4              5.933250                            1.987452   \n",
              "5              0.230814                          -25.712195   \n",
              "6             -0.632547                          -30.226696   \n",
              "7             -1.766780                           66.177694   \n",
              "8             -1.368230                          -17.663150   \n",
              "9             -3.317250                            4.419900   \n",
              "\n",
              "   previous_weeks_volume next_weeks_open next_weeks_close  \\\n",
              "0                    NaN          $16.71           $15.97   \n",
              "1            239655616.0          $16.19           $15.79   \n",
              "2            242963398.0          $15.87           $16.13   \n",
              "3            138428495.0          $16.18           $17.14   \n",
              "4            151379173.0          $17.33           $17.37   \n",
              "5            154387761.0          $17.39           $17.28   \n",
              "6            114691279.0          $16.98           $16.68   \n",
              "7             80023895.0          $16.81           $16.58   \n",
              "8            132981863.0          $16.58           $16.03   \n",
              "9            109493077.0          $15.95           $16.11   \n",
              "\n",
              "   percent_change_next_weeks_price  days_to_next_dividend  \\\n",
              "0                        -4.428490                     26   \n",
              "1                        -2.470660                     19   \n",
              "2                         1.638310                     12   \n",
              "3                         5.933250                      5   \n",
              "4                         0.230814                     97   \n",
              "5                        -0.632547                     90   \n",
              "6                        -1.766780                     83   \n",
              "7                        -1.368230                     76   \n",
              "8                        -3.317250                     69   \n",
              "9                         1.003130                     62   \n",
              "\n",
              "   percent_return_next_dividend  \n",
              "0                      0.182704  \n",
              "1                      0.187852  \n",
              "2                      0.189994  \n",
              "3                      0.185989  \n",
              "4                      0.175029  \n",
              "5                      0.172712  \n",
              "6                      0.173611  \n",
              "7                      0.179856  \n",
              "8                      0.180941  \n",
              "9                      0.187149  "
            ],
            "text/html": [
              "\n",
              "  <div id=\"df-ef07dc43-1608-4a0d-b9c9-d6607fe9f28f\">\n",
              "    <div class=\"colab-df-container\">\n",
              "      <div>\n",
              "<style scoped>\n",
              "    .dataframe tbody tr th:only-of-type {\n",
              "        vertical-align: middle;\n",
              "    }\n",
              "\n",
              "    .dataframe tbody tr th {\n",
              "        vertical-align: top;\n",
              "    }\n",
              "\n",
              "    .dataframe thead th {\n",
              "        text-align: right;\n",
              "    }\n",
              "</style>\n",
              "<table border=\"1\" class=\"dataframe\">\n",
              "  <thead>\n",
              "    <tr style=\"text-align: right;\">\n",
              "      <th></th>\n",
              "      <th>quarter</th>\n",
              "      <th>stock</th>\n",
              "      <th>date</th>\n",
              "      <th>open</th>\n",
              "      <th>high</th>\n",
              "      <th>low</th>\n",
              "      <th>close</th>\n",
              "      <th>volume</th>\n",
              "      <th>percent_change_price</th>\n",
              "      <th>percent_change_volume_over_last_wk</th>\n",
              "      <th>previous_weeks_volume</th>\n",
              "      <th>next_weeks_open</th>\n",
              "      <th>next_weeks_close</th>\n",
              "      <th>percent_change_next_weeks_price</th>\n",
              "      <th>days_to_next_dividend</th>\n",
              "      <th>percent_return_next_dividend</th>\n",
              "    </tr>\n",
              "  </thead>\n",
              "  <tbody>\n",
              "    <tr>\n",
              "      <th>0</th>\n",
              "      <td>1</td>\n",
              "      <td>AA</td>\n",
              "      <td>1/7/2011</td>\n",
              "      <td>$15.82</td>\n",
              "      <td>$16.72</td>\n",
              "      <td>$15.78</td>\n",
              "      <td>$16.42</td>\n",
              "      <td>239655616</td>\n",
              "      <td>3.792670</td>\n",
              "      <td>NaN</td>\n",
              "      <td>NaN</td>\n",
              "      <td>$16.71</td>\n",
              "      <td>$15.97</td>\n",
              "      <td>-4.428490</td>\n",
              "      <td>26</td>\n",
              "      <td>0.182704</td>\n",
              "    </tr>\n",
              "    <tr>\n",
              "      <th>1</th>\n",
              "      <td>1</td>\n",
              "      <td>AA</td>\n",
              "      <td>1/14/2011</td>\n",
              "      <td>$16.71</td>\n",
              "      <td>$16.71</td>\n",
              "      <td>$15.64</td>\n",
              "      <td>$15.97</td>\n",
              "      <td>242963398</td>\n",
              "      <td>-4.428490</td>\n",
              "      <td>1.380223</td>\n",
              "      <td>239655616.0</td>\n",
              "      <td>$16.19</td>\n",
              "      <td>$15.79</td>\n",
              "      <td>-2.470660</td>\n",
              "      <td>19</td>\n",
              "      <td>0.187852</td>\n",
              "    </tr>\n",
              "    <tr>\n",
              "      <th>2</th>\n",
              "      <td>1</td>\n",
              "      <td>AA</td>\n",
              "      <td>1/21/2011</td>\n",
              "      <td>$16.19</td>\n",
              "      <td>$16.38</td>\n",
              "      <td>$15.60</td>\n",
              "      <td>$15.79</td>\n",
              "      <td>138428495</td>\n",
              "      <td>-2.470660</td>\n",
              "      <td>-43.024959</td>\n",
              "      <td>242963398.0</td>\n",
              "      <td>$15.87</td>\n",
              "      <td>$16.13</td>\n",
              "      <td>1.638310</td>\n",
              "      <td>12</td>\n",
              "      <td>0.189994</td>\n",
              "    </tr>\n",
              "    <tr>\n",
              "      <th>3</th>\n",
              "      <td>1</td>\n",
              "      <td>AA</td>\n",
              "      <td>1/28/2011</td>\n",
              "      <td>$15.87</td>\n",
              "      <td>$16.63</td>\n",
              "      <td>$15.82</td>\n",
              "      <td>$16.13</td>\n",
              "      <td>151379173</td>\n",
              "      <td>1.638310</td>\n",
              "      <td>9.355500</td>\n",
              "      <td>138428495.0</td>\n",
              "      <td>$16.18</td>\n",
              "      <td>$17.14</td>\n",
              "      <td>5.933250</td>\n",
              "      <td>5</td>\n",
              "      <td>0.185989</td>\n",
              "    </tr>\n",
              "    <tr>\n",
              "      <th>4</th>\n",
              "      <td>1</td>\n",
              "      <td>AA</td>\n",
              "      <td>2/4/2011</td>\n",
              "      <td>$16.18</td>\n",
              "      <td>$17.39</td>\n",
              "      <td>$16.18</td>\n",
              "      <td>$17.14</td>\n",
              "      <td>154387761</td>\n",
              "      <td>5.933250</td>\n",
              "      <td>1.987452</td>\n",
              "      <td>151379173.0</td>\n",
              "      <td>$17.33</td>\n",
              "      <td>$17.37</td>\n",
              "      <td>0.230814</td>\n",
              "      <td>97</td>\n",
              "      <td>0.175029</td>\n",
              "    </tr>\n",
              "    <tr>\n",
              "      <th>5</th>\n",
              "      <td>1</td>\n",
              "      <td>AA</td>\n",
              "      <td>2/11/2011</td>\n",
              "      <td>$17.33</td>\n",
              "      <td>$17.48</td>\n",
              "      <td>$16.97</td>\n",
              "      <td>$17.37</td>\n",
              "      <td>114691279</td>\n",
              "      <td>0.230814</td>\n",
              "      <td>-25.712195</td>\n",
              "      <td>154387761.0</td>\n",
              "      <td>$17.39</td>\n",
              "      <td>$17.28</td>\n",
              "      <td>-0.632547</td>\n",
              "      <td>90</td>\n",
              "      <td>0.172712</td>\n",
              "    </tr>\n",
              "    <tr>\n",
              "      <th>6</th>\n",
              "      <td>1</td>\n",
              "      <td>AA</td>\n",
              "      <td>2/18/2011</td>\n",
              "      <td>$17.39</td>\n",
              "      <td>$17.68</td>\n",
              "      <td>$17.28</td>\n",
              "      <td>$17.28</td>\n",
              "      <td>80023895</td>\n",
              "      <td>-0.632547</td>\n",
              "      <td>-30.226696</td>\n",
              "      <td>114691279.0</td>\n",
              "      <td>$16.98</td>\n",
              "      <td>$16.68</td>\n",
              "      <td>-1.766780</td>\n",
              "      <td>83</td>\n",
              "      <td>0.173611</td>\n",
              "    </tr>\n",
              "    <tr>\n",
              "      <th>7</th>\n",
              "      <td>1</td>\n",
              "      <td>AA</td>\n",
              "      <td>2/25/2011</td>\n",
              "      <td>$16.98</td>\n",
              "      <td>$17.15</td>\n",
              "      <td>$15.96</td>\n",
              "      <td>$16.68</td>\n",
              "      <td>132981863</td>\n",
              "      <td>-1.766780</td>\n",
              "      <td>66.177694</td>\n",
              "      <td>80023895.0</td>\n",
              "      <td>$16.81</td>\n",
              "      <td>$16.58</td>\n",
              "      <td>-1.368230</td>\n",
              "      <td>76</td>\n",
              "      <td>0.179856</td>\n",
              "    </tr>\n",
              "    <tr>\n",
              "      <th>8</th>\n",
              "      <td>1</td>\n",
              "      <td>AA</td>\n",
              "      <td>3/4/2011</td>\n",
              "      <td>$16.81</td>\n",
              "      <td>$16.94</td>\n",
              "      <td>$16.13</td>\n",
              "      <td>$16.58</td>\n",
              "      <td>109493077</td>\n",
              "      <td>-1.368230</td>\n",
              "      <td>-17.663150</td>\n",
              "      <td>132981863.0</td>\n",
              "      <td>$16.58</td>\n",
              "      <td>$16.03</td>\n",
              "      <td>-3.317250</td>\n",
              "      <td>69</td>\n",
              "      <td>0.180941</td>\n",
              "    </tr>\n",
              "    <tr>\n",
              "      <th>9</th>\n",
              "      <td>1</td>\n",
              "      <td>AA</td>\n",
              "      <td>3/11/2011</td>\n",
              "      <td>$16.58</td>\n",
              "      <td>$16.75</td>\n",
              "      <td>$15.42</td>\n",
              "      <td>$16.03</td>\n",
              "      <td>114332562</td>\n",
              "      <td>-3.317250</td>\n",
              "      <td>4.419900</td>\n",
              "      <td>109493077.0</td>\n",
              "      <td>$15.95</td>\n",
              "      <td>$16.11</td>\n",
              "      <td>1.003130</td>\n",
              "      <td>62</td>\n",
              "      <td>0.187149</td>\n",
              "    </tr>\n",
              "  </tbody>\n",
              "</table>\n",
              "</div>\n",
              "      <button class=\"colab-df-convert\" onclick=\"convertToInteractive('df-ef07dc43-1608-4a0d-b9c9-d6607fe9f28f')\"\n",
              "              title=\"Convert this dataframe to an interactive table.\"\n",
              "              style=\"display:none;\">\n",
              "        \n",
              "  <svg xmlns=\"http://www.w3.org/2000/svg\" height=\"24px\"viewBox=\"0 0 24 24\"\n",
              "       width=\"24px\">\n",
              "    <path d=\"M0 0h24v24H0V0z\" fill=\"none\"/>\n",
              "    <path d=\"M18.56 5.44l.94 2.06.94-2.06 2.06-.94-2.06-.94-.94-2.06-.94 2.06-2.06.94zm-11 1L8.5 8.5l.94-2.06 2.06-.94-2.06-.94L8.5 2.5l-.94 2.06-2.06.94zm10 10l.94 2.06.94-2.06 2.06-.94-2.06-.94-.94-2.06-.94 2.06-2.06.94z\"/><path d=\"M17.41 7.96l-1.37-1.37c-.4-.4-.92-.59-1.43-.59-.52 0-1.04.2-1.43.59L10.3 9.45l-7.72 7.72c-.78.78-.78 2.05 0 2.83L4 21.41c.39.39.9.59 1.41.59.51 0 1.02-.2 1.41-.59l7.78-7.78 2.81-2.81c.8-.78.8-2.07 0-2.86zM5.41 20L4 18.59l7.72-7.72 1.47 1.35L5.41 20z\"/>\n",
              "  </svg>\n",
              "      </button>\n",
              "      \n",
              "  <style>\n",
              "    .colab-df-container {\n",
              "      display:flex;\n",
              "      flex-wrap:wrap;\n",
              "      gap: 12px;\n",
              "    }\n",
              "\n",
              "    .colab-df-convert {\n",
              "      background-color: #E8F0FE;\n",
              "      border: none;\n",
              "      border-radius: 50%;\n",
              "      cursor: pointer;\n",
              "      display: none;\n",
              "      fill: #1967D2;\n",
              "      height: 32px;\n",
              "      padding: 0 0 0 0;\n",
              "      width: 32px;\n",
              "    }\n",
              "\n",
              "    .colab-df-convert:hover {\n",
              "      background-color: #E2EBFA;\n",
              "      box-shadow: 0px 1px 2px rgba(60, 64, 67, 0.3), 0px 1px 3px 1px rgba(60, 64, 67, 0.15);\n",
              "      fill: #174EA6;\n",
              "    }\n",
              "\n",
              "    [theme=dark] .colab-df-convert {\n",
              "      background-color: #3B4455;\n",
              "      fill: #D2E3FC;\n",
              "    }\n",
              "\n",
              "    [theme=dark] .colab-df-convert:hover {\n",
              "      background-color: #434B5C;\n",
              "      box-shadow: 0px 1px 3px 1px rgba(0, 0, 0, 0.15);\n",
              "      filter: drop-shadow(0px 1px 2px rgba(0, 0, 0, 0.3));\n",
              "      fill: #FFFFFF;\n",
              "    }\n",
              "  </style>\n",
              "\n",
              "      <script>\n",
              "        const buttonEl =\n",
              "          document.querySelector('#df-ef07dc43-1608-4a0d-b9c9-d6607fe9f28f button.colab-df-convert');\n",
              "        buttonEl.style.display =\n",
              "          google.colab.kernel.accessAllowed ? 'block' : 'none';\n",
              "\n",
              "        async function convertToInteractive(key) {\n",
              "          const element = document.querySelector('#df-ef07dc43-1608-4a0d-b9c9-d6607fe9f28f');\n",
              "          const dataTable =\n",
              "            await google.colab.kernel.invokeFunction('convertToInteractive',\n",
              "                                                     [key], {});\n",
              "          if (!dataTable) return;\n",
              "\n",
              "          const docLinkHtml = 'Like what you see? Visit the ' +\n",
              "            '<a target=\"_blank\" href=https://colab.research.google.com/notebooks/data_table.ipynb>data table notebook</a>'\n",
              "            + ' to learn more about interactive tables.';\n",
              "          element.innerHTML = '';\n",
              "          dataTable['output_type'] = 'display_data';\n",
              "          await google.colab.output.renderOutput(dataTable, element);\n",
              "          const docLink = document.createElement('div');\n",
              "          docLink.innerHTML = docLinkHtml;\n",
              "          element.appendChild(docLink);\n",
              "        }\n",
              "      </script>\n",
              "    </div>\n",
              "  </div>\n",
              "  "
            ]
          },
          "metadata": {},
          "execution_count": 117
        }
      ],
      "source": [
        "df.head(n=10)"
      ]
    },
    {
      "cell_type": "markdown",
      "metadata": {
        "id": "Jna7T1eqxRmH"
      },
      "source": [
        " - Visualizando o nome das colunas:"
      ]
    },
    {
      "cell_type": "code",
      "execution_count": 118,
      "metadata": {
        "colab": {
          "base_uri": "https://localhost:8080/"
        },
        "id": "bX_7C45pxU8Q",
        "outputId": "babc838e-4206-44ba-b13f-bf866bac61a0"
      },
      "outputs": [
        {
          "output_type": "execute_result",
          "data": {
            "text/plain": [
              "['quarter',\n",
              " 'stock',\n",
              " 'date',\n",
              " 'open',\n",
              " 'high',\n",
              " 'low',\n",
              " 'close',\n",
              " 'volume',\n",
              " 'percent_change_price',\n",
              " 'percent_change_volume_over_last_wk',\n",
              " 'previous_weeks_volume',\n",
              " 'next_weeks_open',\n",
              " 'next_weeks_close',\n",
              " 'percent_change_next_weeks_price',\n",
              " 'days_to_next_dividend',\n",
              " 'percent_return_next_dividend']"
            ]
          },
          "metadata": {},
          "execution_count": 118
        }
      ],
      "source": [
        "df.columns.to_list()"
      ]
    },
    {
      "cell_type": "markdown",
      "metadata": {
        "id": "sqLB9abQxbE-"
      },
      "source": [
        " - Verificando o número de linhas e colunas."
      ]
    },
    {
      "cell_type": "code",
      "execution_count": 119,
      "metadata": {
        "colab": {
          "base_uri": "https://localhost:8080/"
        },
        "id": "sBrOUuUVxe7A",
        "outputId": "a9ed6486-0cc9-40e3-c143-3ec409f64eea"
      },
      "outputs": [
        {
          "output_type": "stream",
          "name": "stdout",
          "text": [
            "Número de linhas: 750\n",
            "Número de colunas: 16\n"
          ]
        }
      ],
      "source": [
        "linhas, colunas = df.shape\n",
        "print(f'Número de linhas: {linhas}')\n",
        "print(f'Número de colunas: {colunas}')"
      ]
    },
    {
      "cell_type": "markdown",
      "metadata": {
        "id": "bSN4zYEKyC7L"
      },
      "source": [
        "Vamos selecionar os valores de abertura, fechamento, máximo e mínimo das ações do McDonalds, listado na Dow Jones como MCD:"
      ]
    },
    {
      "cell_type": "markdown",
      "metadata": {
        "id": "CyTuPJmgzbZd"
      },
      "source": [
        " - Selecionando as linha do dataframe original `df` em que a coluna `stock` é igual a `MCD`."
      ]
    },
    {
      "cell_type": "code",
      "execution_count": 120,
      "metadata": {
        "id": "25XUDMPqqwgH"
      },
      "outputs": [],
      "source": [
        "df_mcd = df[df['stock'] == 'MCD']"
      ]
    },
    {
      "cell_type": "markdown",
      "metadata": {
        "id": "ga7Z_GA0zxzA"
      },
      "source": [
        " - Selecionando apenas as colunas de data e valores de ações."
      ]
    },
    {
      "cell_type": "code",
      "execution_count": 121,
      "metadata": {
        "id": "95LDI4jCrMGI"
      },
      "outputs": [],
      "source": [
        "df_mcd = df_mcd[['date', 'open', 'high', 'low', 'close']]"
      ]
    },
    {
      "cell_type": "markdown",
      "metadata": {
        "id": "ApnHMNYOyQ8T"
      },
      "source": [
        "Excelente, o problema é que as colunas com os valores possuem o carater `$` e são do tipo texto (`object` no `pandas`)."
      ]
    },
    {
      "cell_type": "code",
      "execution_count": 122,
      "metadata": {
        "colab": {
          "base_uri": "https://localhost:8080/",
          "height": 363
        },
        "id": "DDZZralSr0Zk",
        "outputId": "c5c02656-f3ae-4487-c0cc-ac67c00736d2"
      },
      "outputs": [
        {
          "output_type": "execute_result",
          "data": {
            "text/plain": [
              "          date    open    high     low   close\n",
              "216   1/7/2011  $77.10  $77.59  $73.59  $74.37\n",
              "217  1/14/2011  $74.25  $74.49  $72.46  $74.06\n",
              "218  1/21/2011  $74.65  $75.75  $74.31  $75.01\n",
              "219  1/28/2011  $74.25  $75.85  $73.05  $73.28\n",
              "220   2/4/2011  $73.80  $74.50  $73.08  $74.05\n",
              "221  2/11/2011  $74.13  $76.32  $73.30  $76.14\n",
              "222  2/18/2011  $76.07  $76.45  $75.70  $76.13\n",
              "223  2/25/2011  $75.95  $76.45  $74.42  $74.44\n",
              "224   3/4/2011  $74.51  $76.63  $73.64  $76.03\n",
              "225  3/11/2011  $76.38  $77.25  $74.97  $76.73"
            ],
            "text/html": [
              "\n",
              "  <div id=\"df-8450bedd-ff0f-40c1-8a05-848799c0bd8a\">\n",
              "    <div class=\"colab-df-container\">\n",
              "      <div>\n",
              "<style scoped>\n",
              "    .dataframe tbody tr th:only-of-type {\n",
              "        vertical-align: middle;\n",
              "    }\n",
              "\n",
              "    .dataframe tbody tr th {\n",
              "        vertical-align: top;\n",
              "    }\n",
              "\n",
              "    .dataframe thead th {\n",
              "        text-align: right;\n",
              "    }\n",
              "</style>\n",
              "<table border=\"1\" class=\"dataframe\">\n",
              "  <thead>\n",
              "    <tr style=\"text-align: right;\">\n",
              "      <th></th>\n",
              "      <th>date</th>\n",
              "      <th>open</th>\n",
              "      <th>high</th>\n",
              "      <th>low</th>\n",
              "      <th>close</th>\n",
              "    </tr>\n",
              "  </thead>\n",
              "  <tbody>\n",
              "    <tr>\n",
              "      <th>216</th>\n",
              "      <td>1/7/2011</td>\n",
              "      <td>$77.10</td>\n",
              "      <td>$77.59</td>\n",
              "      <td>$73.59</td>\n",
              "      <td>$74.37</td>\n",
              "    </tr>\n",
              "    <tr>\n",
              "      <th>217</th>\n",
              "      <td>1/14/2011</td>\n",
              "      <td>$74.25</td>\n",
              "      <td>$74.49</td>\n",
              "      <td>$72.46</td>\n",
              "      <td>$74.06</td>\n",
              "    </tr>\n",
              "    <tr>\n",
              "      <th>218</th>\n",
              "      <td>1/21/2011</td>\n",
              "      <td>$74.65</td>\n",
              "      <td>$75.75</td>\n",
              "      <td>$74.31</td>\n",
              "      <td>$75.01</td>\n",
              "    </tr>\n",
              "    <tr>\n",
              "      <th>219</th>\n",
              "      <td>1/28/2011</td>\n",
              "      <td>$74.25</td>\n",
              "      <td>$75.85</td>\n",
              "      <td>$73.05</td>\n",
              "      <td>$73.28</td>\n",
              "    </tr>\n",
              "    <tr>\n",
              "      <th>220</th>\n",
              "      <td>2/4/2011</td>\n",
              "      <td>$73.80</td>\n",
              "      <td>$74.50</td>\n",
              "      <td>$73.08</td>\n",
              "      <td>$74.05</td>\n",
              "    </tr>\n",
              "    <tr>\n",
              "      <th>221</th>\n",
              "      <td>2/11/2011</td>\n",
              "      <td>$74.13</td>\n",
              "      <td>$76.32</td>\n",
              "      <td>$73.30</td>\n",
              "      <td>$76.14</td>\n",
              "    </tr>\n",
              "    <tr>\n",
              "      <th>222</th>\n",
              "      <td>2/18/2011</td>\n",
              "      <td>$76.07</td>\n",
              "      <td>$76.45</td>\n",
              "      <td>$75.70</td>\n",
              "      <td>$76.13</td>\n",
              "    </tr>\n",
              "    <tr>\n",
              "      <th>223</th>\n",
              "      <td>2/25/2011</td>\n",
              "      <td>$75.95</td>\n",
              "      <td>$76.45</td>\n",
              "      <td>$74.42</td>\n",
              "      <td>$74.44</td>\n",
              "    </tr>\n",
              "    <tr>\n",
              "      <th>224</th>\n",
              "      <td>3/4/2011</td>\n",
              "      <td>$74.51</td>\n",
              "      <td>$76.63</td>\n",
              "      <td>$73.64</td>\n",
              "      <td>$76.03</td>\n",
              "    </tr>\n",
              "    <tr>\n",
              "      <th>225</th>\n",
              "      <td>3/11/2011</td>\n",
              "      <td>$76.38</td>\n",
              "      <td>$77.25</td>\n",
              "      <td>$74.97</td>\n",
              "      <td>$76.73</td>\n",
              "    </tr>\n",
              "  </tbody>\n",
              "</table>\n",
              "</div>\n",
              "      <button class=\"colab-df-convert\" onclick=\"convertToInteractive('df-8450bedd-ff0f-40c1-8a05-848799c0bd8a')\"\n",
              "              title=\"Convert this dataframe to an interactive table.\"\n",
              "              style=\"display:none;\">\n",
              "        \n",
              "  <svg xmlns=\"http://www.w3.org/2000/svg\" height=\"24px\"viewBox=\"0 0 24 24\"\n",
              "       width=\"24px\">\n",
              "    <path d=\"M0 0h24v24H0V0z\" fill=\"none\"/>\n",
              "    <path d=\"M18.56 5.44l.94 2.06.94-2.06 2.06-.94-2.06-.94-.94-2.06-.94 2.06-2.06.94zm-11 1L8.5 8.5l.94-2.06 2.06-.94-2.06-.94L8.5 2.5l-.94 2.06-2.06.94zm10 10l.94 2.06.94-2.06 2.06-.94-2.06-.94-.94-2.06-.94 2.06-2.06.94z\"/><path d=\"M17.41 7.96l-1.37-1.37c-.4-.4-.92-.59-1.43-.59-.52 0-1.04.2-1.43.59L10.3 9.45l-7.72 7.72c-.78.78-.78 2.05 0 2.83L4 21.41c.39.39.9.59 1.41.59.51 0 1.02-.2 1.41-.59l7.78-7.78 2.81-2.81c.8-.78.8-2.07 0-2.86zM5.41 20L4 18.59l7.72-7.72 1.47 1.35L5.41 20z\"/>\n",
              "  </svg>\n",
              "      </button>\n",
              "      \n",
              "  <style>\n",
              "    .colab-df-container {\n",
              "      display:flex;\n",
              "      flex-wrap:wrap;\n",
              "      gap: 12px;\n",
              "    }\n",
              "\n",
              "    .colab-df-convert {\n",
              "      background-color: #E8F0FE;\n",
              "      border: none;\n",
              "      border-radius: 50%;\n",
              "      cursor: pointer;\n",
              "      display: none;\n",
              "      fill: #1967D2;\n",
              "      height: 32px;\n",
              "      padding: 0 0 0 0;\n",
              "      width: 32px;\n",
              "    }\n",
              "\n",
              "    .colab-df-convert:hover {\n",
              "      background-color: #E2EBFA;\n",
              "      box-shadow: 0px 1px 2px rgba(60, 64, 67, 0.3), 0px 1px 3px 1px rgba(60, 64, 67, 0.15);\n",
              "      fill: #174EA6;\n",
              "    }\n",
              "\n",
              "    [theme=dark] .colab-df-convert {\n",
              "      background-color: #3B4455;\n",
              "      fill: #D2E3FC;\n",
              "    }\n",
              "\n",
              "    [theme=dark] .colab-df-convert:hover {\n",
              "      background-color: #434B5C;\n",
              "      box-shadow: 0px 1px 3px 1px rgba(0, 0, 0, 0.15);\n",
              "      filter: drop-shadow(0px 1px 2px rgba(0, 0, 0, 0.3));\n",
              "      fill: #FFFFFF;\n",
              "    }\n",
              "  </style>\n",
              "\n",
              "      <script>\n",
              "        const buttonEl =\n",
              "          document.querySelector('#df-8450bedd-ff0f-40c1-8a05-848799c0bd8a button.colab-df-convert');\n",
              "        buttonEl.style.display =\n",
              "          google.colab.kernel.accessAllowed ? 'block' : 'none';\n",
              "\n",
              "        async function convertToInteractive(key) {\n",
              "          const element = document.querySelector('#df-8450bedd-ff0f-40c1-8a05-848799c0bd8a');\n",
              "          const dataTable =\n",
              "            await google.colab.kernel.invokeFunction('convertToInteractive',\n",
              "                                                     [key], {});\n",
              "          if (!dataTable) return;\n",
              "\n",
              "          const docLinkHtml = 'Like what you see? Visit the ' +\n",
              "            '<a target=\"_blank\" href=https://colab.research.google.com/notebooks/data_table.ipynb>data table notebook</a>'\n",
              "            + ' to learn more about interactive tables.';\n",
              "          element.innerHTML = '';\n",
              "          dataTable['output_type'] = 'display_data';\n",
              "          await google.colab.output.renderOutput(dataTable, element);\n",
              "          const docLink = document.createElement('div');\n",
              "          docLink.innerHTML = docLinkHtml;\n",
              "          element.appendChild(docLink);\n",
              "        }\n",
              "      </script>\n",
              "    </div>\n",
              "  </div>\n",
              "  "
            ]
          },
          "metadata": {},
          "execution_count": 122
        }
      ],
      "source": [
        "df_mcd.head(n=10)"
      ]
    },
    {
      "cell_type": "code",
      "execution_count": 123,
      "metadata": {
        "colab": {
          "base_uri": "https://localhost:8080/"
        },
        "id": "8cx7gP6TyjOu",
        "outputId": "9900ab3f-44b7-4cb2-bf27-21f9d4bab693"
      },
      "outputs": [
        {
          "output_type": "execute_result",
          "data": {
            "text/plain": [
              "date     object\n",
              "open     object\n",
              "high     object\n",
              "low      object\n",
              "close    object\n",
              "dtype: object"
            ]
          },
          "metadata": {},
          "execution_count": 123
        }
      ],
      "source": [
        "df_mcd.dtypes"
      ]
    },
    {
      "cell_type": "markdown",
      "metadata": {
        "id": "IsSYxtOOys72"
      },
      "source": [
        "Vamos limpar as colunas com o método `apply`, que permite a aplicação de uma função anônima (`lambda`) qualquer. A função `lambda` remove o caracter **$** e faz a conversão do tipo de `str` para `float`."
      ]
    },
    {
      "cell_type": "code",
      "execution_count": 124,
      "metadata": {
        "id": "u3OGT0r_sFCJ",
        "colab": {
          "base_uri": "https://localhost:8080/"
        },
        "outputId": "5f0010f1-a0bc-4a9f-a3e6-21f02ce7d60b"
      },
      "outputs": [
        {
          "output_type": "stream",
          "name": "stderr",
          "text": [
            "/usr/local/lib/python3.7/dist-packages/ipykernel_launcher.py:2: SettingWithCopyWarning: \n",
            "A value is trying to be set on a copy of a slice from a DataFrame.\n",
            "Try using .loc[row_indexer,col_indexer] = value instead\n",
            "\n",
            "See the caveats in the documentation: https://pandas.pydata.org/pandas-docs/stable/user_guide/indexing.html#returning-a-view-versus-a-copy\n",
            "  \n"
          ]
        }
      ],
      "source": [
        "for col in ['open', 'high', 'low', 'close']:\n",
        "  df_mcd[col] = df_mcd[col].apply(lambda value: float(value.split(sep='$')[-1]))"
      ]
    },
    {
      "cell_type": "markdown",
      "metadata": {
        "id": "4xEkH-RdzLUi"
      },
      "source": [
        "Verifique novamente os dados e seus tipos."
      ]
    },
    {
      "cell_type": "code",
      "execution_count": 125,
      "metadata": {
        "colab": {
          "base_uri": "https://localhost:8080/",
          "height": 363
        },
        "id": "4w3-4q1gsv3Y",
        "outputId": "bdcfc3c0-d9e4-4132-a694-32e398999a36"
      },
      "outputs": [
        {
          "output_type": "execute_result",
          "data": {
            "text/plain": [
              "          date   open   high    low  close\n",
              "216   1/7/2011  77.10  77.59  73.59  74.37\n",
              "217  1/14/2011  74.25  74.49  72.46  74.06\n",
              "218  1/21/2011  74.65  75.75  74.31  75.01\n",
              "219  1/28/2011  74.25  75.85  73.05  73.28\n",
              "220   2/4/2011  73.80  74.50  73.08  74.05\n",
              "221  2/11/2011  74.13  76.32  73.30  76.14\n",
              "222  2/18/2011  76.07  76.45  75.70  76.13\n",
              "223  2/25/2011  75.95  76.45  74.42  74.44\n",
              "224   3/4/2011  74.51  76.63  73.64  76.03\n",
              "225  3/11/2011  76.38  77.25  74.97  76.73"
            ],
            "text/html": [
              "\n",
              "  <div id=\"df-a871fe7a-3385-406b-be02-6d026d32874e\">\n",
              "    <div class=\"colab-df-container\">\n",
              "      <div>\n",
              "<style scoped>\n",
              "    .dataframe tbody tr th:only-of-type {\n",
              "        vertical-align: middle;\n",
              "    }\n",
              "\n",
              "    .dataframe tbody tr th {\n",
              "        vertical-align: top;\n",
              "    }\n",
              "\n",
              "    .dataframe thead th {\n",
              "        text-align: right;\n",
              "    }\n",
              "</style>\n",
              "<table border=\"1\" class=\"dataframe\">\n",
              "  <thead>\n",
              "    <tr style=\"text-align: right;\">\n",
              "      <th></th>\n",
              "      <th>date</th>\n",
              "      <th>open</th>\n",
              "      <th>high</th>\n",
              "      <th>low</th>\n",
              "      <th>close</th>\n",
              "    </tr>\n",
              "  </thead>\n",
              "  <tbody>\n",
              "    <tr>\n",
              "      <th>216</th>\n",
              "      <td>1/7/2011</td>\n",
              "      <td>77.10</td>\n",
              "      <td>77.59</td>\n",
              "      <td>73.59</td>\n",
              "      <td>74.37</td>\n",
              "    </tr>\n",
              "    <tr>\n",
              "      <th>217</th>\n",
              "      <td>1/14/2011</td>\n",
              "      <td>74.25</td>\n",
              "      <td>74.49</td>\n",
              "      <td>72.46</td>\n",
              "      <td>74.06</td>\n",
              "    </tr>\n",
              "    <tr>\n",
              "      <th>218</th>\n",
              "      <td>1/21/2011</td>\n",
              "      <td>74.65</td>\n",
              "      <td>75.75</td>\n",
              "      <td>74.31</td>\n",
              "      <td>75.01</td>\n",
              "    </tr>\n",
              "    <tr>\n",
              "      <th>219</th>\n",
              "      <td>1/28/2011</td>\n",
              "      <td>74.25</td>\n",
              "      <td>75.85</td>\n",
              "      <td>73.05</td>\n",
              "      <td>73.28</td>\n",
              "    </tr>\n",
              "    <tr>\n",
              "      <th>220</th>\n",
              "      <td>2/4/2011</td>\n",
              "      <td>73.80</td>\n",
              "      <td>74.50</td>\n",
              "      <td>73.08</td>\n",
              "      <td>74.05</td>\n",
              "    </tr>\n",
              "    <tr>\n",
              "      <th>221</th>\n",
              "      <td>2/11/2011</td>\n",
              "      <td>74.13</td>\n",
              "      <td>76.32</td>\n",
              "      <td>73.30</td>\n",
              "      <td>76.14</td>\n",
              "    </tr>\n",
              "    <tr>\n",
              "      <th>222</th>\n",
              "      <td>2/18/2011</td>\n",
              "      <td>76.07</td>\n",
              "      <td>76.45</td>\n",
              "      <td>75.70</td>\n",
              "      <td>76.13</td>\n",
              "    </tr>\n",
              "    <tr>\n",
              "      <th>223</th>\n",
              "      <td>2/25/2011</td>\n",
              "      <td>75.95</td>\n",
              "      <td>76.45</td>\n",
              "      <td>74.42</td>\n",
              "      <td>74.44</td>\n",
              "    </tr>\n",
              "    <tr>\n",
              "      <th>224</th>\n",
              "      <td>3/4/2011</td>\n",
              "      <td>74.51</td>\n",
              "      <td>76.63</td>\n",
              "      <td>73.64</td>\n",
              "      <td>76.03</td>\n",
              "    </tr>\n",
              "    <tr>\n",
              "      <th>225</th>\n",
              "      <td>3/11/2011</td>\n",
              "      <td>76.38</td>\n",
              "      <td>77.25</td>\n",
              "      <td>74.97</td>\n",
              "      <td>76.73</td>\n",
              "    </tr>\n",
              "  </tbody>\n",
              "</table>\n",
              "</div>\n",
              "      <button class=\"colab-df-convert\" onclick=\"convertToInteractive('df-a871fe7a-3385-406b-be02-6d026d32874e')\"\n",
              "              title=\"Convert this dataframe to an interactive table.\"\n",
              "              style=\"display:none;\">\n",
              "        \n",
              "  <svg xmlns=\"http://www.w3.org/2000/svg\" height=\"24px\"viewBox=\"0 0 24 24\"\n",
              "       width=\"24px\">\n",
              "    <path d=\"M0 0h24v24H0V0z\" fill=\"none\"/>\n",
              "    <path d=\"M18.56 5.44l.94 2.06.94-2.06 2.06-.94-2.06-.94-.94-2.06-.94 2.06-2.06.94zm-11 1L8.5 8.5l.94-2.06 2.06-.94-2.06-.94L8.5 2.5l-.94 2.06-2.06.94zm10 10l.94 2.06.94-2.06 2.06-.94-2.06-.94-.94-2.06-.94 2.06-2.06.94z\"/><path d=\"M17.41 7.96l-1.37-1.37c-.4-.4-.92-.59-1.43-.59-.52 0-1.04.2-1.43.59L10.3 9.45l-7.72 7.72c-.78.78-.78 2.05 0 2.83L4 21.41c.39.39.9.59 1.41.59.51 0 1.02-.2 1.41-.59l7.78-7.78 2.81-2.81c.8-.78.8-2.07 0-2.86zM5.41 20L4 18.59l7.72-7.72 1.47 1.35L5.41 20z\"/>\n",
              "  </svg>\n",
              "      </button>\n",
              "      \n",
              "  <style>\n",
              "    .colab-df-container {\n",
              "      display:flex;\n",
              "      flex-wrap:wrap;\n",
              "      gap: 12px;\n",
              "    }\n",
              "\n",
              "    .colab-df-convert {\n",
              "      background-color: #E8F0FE;\n",
              "      border: none;\n",
              "      border-radius: 50%;\n",
              "      cursor: pointer;\n",
              "      display: none;\n",
              "      fill: #1967D2;\n",
              "      height: 32px;\n",
              "      padding: 0 0 0 0;\n",
              "      width: 32px;\n",
              "    }\n",
              "\n",
              "    .colab-df-convert:hover {\n",
              "      background-color: #E2EBFA;\n",
              "      box-shadow: 0px 1px 2px rgba(60, 64, 67, 0.3), 0px 1px 3px 1px rgba(60, 64, 67, 0.15);\n",
              "      fill: #174EA6;\n",
              "    }\n",
              "\n",
              "    [theme=dark] .colab-df-convert {\n",
              "      background-color: #3B4455;\n",
              "      fill: #D2E3FC;\n",
              "    }\n",
              "\n",
              "    [theme=dark] .colab-df-convert:hover {\n",
              "      background-color: #434B5C;\n",
              "      box-shadow: 0px 1px 3px 1px rgba(0, 0, 0, 0.15);\n",
              "      filter: drop-shadow(0px 1px 2px rgba(0, 0, 0, 0.3));\n",
              "      fill: #FFFFFF;\n",
              "    }\n",
              "  </style>\n",
              "\n",
              "      <script>\n",
              "        const buttonEl =\n",
              "          document.querySelector('#df-a871fe7a-3385-406b-be02-6d026d32874e button.colab-df-convert');\n",
              "        buttonEl.style.display =\n",
              "          google.colab.kernel.accessAllowed ? 'block' : 'none';\n",
              "\n",
              "        async function convertToInteractive(key) {\n",
              "          const element = document.querySelector('#df-a871fe7a-3385-406b-be02-6d026d32874e');\n",
              "          const dataTable =\n",
              "            await google.colab.kernel.invokeFunction('convertToInteractive',\n",
              "                                                     [key], {});\n",
              "          if (!dataTable) return;\n",
              "\n",
              "          const docLinkHtml = 'Like what you see? Visit the ' +\n",
              "            '<a target=\"_blank\" href=https://colab.research.google.com/notebooks/data_table.ipynb>data table notebook</a>'\n",
              "            + ' to learn more about interactive tables.';\n",
              "          element.innerHTML = '';\n",
              "          dataTable['output_type'] = 'display_data';\n",
              "          await google.colab.output.renderOutput(dataTable, element);\n",
              "          const docLink = document.createElement('div');\n",
              "          docLink.innerHTML = docLinkHtml;\n",
              "          element.appendChild(docLink);\n",
              "        }\n",
              "      </script>\n",
              "    </div>\n",
              "  </div>\n",
              "  "
            ]
          },
          "metadata": {},
          "execution_count": 125
        }
      ],
      "source": [
        "df_mcd.head(n=10)"
      ]
    },
    {
      "cell_type": "code",
      "execution_count": 126,
      "metadata": {
        "colab": {
          "base_uri": "https://localhost:8080/"
        },
        "id": "FDZyy9SVzPoK",
        "outputId": "bc480824-964f-4250-adba-4963ad375e40"
      },
      "outputs": [
        {
          "output_type": "execute_result",
          "data": {
            "text/plain": [
              "date      object\n",
              "open     float64\n",
              "high     float64\n",
              "low      float64\n",
              "close    float64\n",
              "dtype: object"
            ]
          },
          "metadata": {},
          "execution_count": 126
        }
      ],
      "source": [
        "df_mcd.dtypes"
      ]
    },
    {
      "cell_type": "markdown",
      "metadata": {
        "id": "lIzrYVGWkRJ9"
      },
      "source": [
        "Excelente, agora podemos explorar os dados visualmente."
      ]
    },
    {
      "cell_type": "markdown",
      "metadata": {
        "id": "_-TI78q1yuQa"
      },
      "source": [
        "**Agora é a sua vez!** Conduza o mesmo processo para extrair e tratar os dados da empresa Coca-Cola (`stock` column igual a `KO`)."
      ]
    },
    {
      "cell_type": "markdown",
      "metadata": {
        "id": "NUd49lN4-Wyv"
      },
      "source": [
        " - Selecionando as linha do dataframe original `df` em que a coluna `stock` é igual a `KO`."
      ]
    },
    {
      "cell_type": "code",
      "execution_count": 127,
      "metadata": {
        "id": "fGbOS3kNzNNF"
      },
      "outputs": [],
      "source": [
        "# extração e tratamento dos dados da empresa Coca-Cola.\n",
        "\n",
        "df_ko = df[df['stock'] == 'KO']\n",
        "\n",
        "# Como mudei o padrão de MDC para KO, também irei mudar o nome de todas as variáveis para 'ko'"
      ]
    },
    {
      "cell_type": "markdown",
      "metadata": {
        "id": "7fRSH8d4-IcX"
      },
      "source": [
        "Vamos selecionar os valores de abertura, fechamento, máximo e mínimo das ações da empresa Coca-Cola, listado na Dow Jones como KO:"
      ]
    },
    {
      "cell_type": "markdown",
      "metadata": {
        "id": "rXOSpT2A-dyR"
      },
      "source": [
        " - Selecionando apenas as colunas de data e valores de ações."
      ]
    },
    {
      "cell_type": "code",
      "execution_count": 128,
      "metadata": {
        "id": "H8BPfG8t-eZu"
      },
      "outputs": [],
      "source": [
        "df_ko = df_ko[['date', 'open', 'high', 'low', 'close']]"
      ]
    },
    {
      "cell_type": "markdown",
      "metadata": {
        "id": "6GzON3XR-ohH"
      },
      "source": [
        "Excelente, o problema é que as colunas com os valores possuem o carater `$` e são do tipo texto (`object` no `pandas`)."
      ]
    },
    {
      "cell_type": "code",
      "execution_count": 129,
      "metadata": {
        "colab": {
          "base_uri": "https://localhost:8080/",
          "height": 363
        },
        "id": "N-rvXLbD-ven",
        "outputId": "5b0ab261-399a-4a51-9172-5d73fa63f455"
      },
      "outputs": [
        {
          "output_type": "execute_result",
          "data": {
            "text/plain": [
              "          date    open    high     low   close\n",
              "204   1/7/2011  $65.88  $65.88  $62.56  $62.92\n",
              "205  1/14/2011  $62.70  $63.86  $62.56  $63.13\n",
              "206  1/21/2011  $63.21  $63.92  $62.72  $62.77\n",
              "207  1/28/2011  $62.87  $63.31  $62.14  $62.21\n",
              "208   2/4/2011  $62.32  $63.48  $61.89  $62.56\n",
              "209  2/11/2011  $62.67  $64.75  $62.32  $63.57\n",
              "210  2/18/2011  $63.67  $64.72  $62.55  $64.55\n",
              "211  2/25/2011  $63.36  $64.40  $63.33  $64.31\n",
              "212   3/4/2011  $64.17  $65.87  $63.86  $65.21\n",
              "213  3/11/2011  $65.32  $65.84  $64.47  $64.81"
            ],
            "text/html": [
              "\n",
              "  <div id=\"df-09575517-f57b-40c2-b513-1f3a458edb73\">\n",
              "    <div class=\"colab-df-container\">\n",
              "      <div>\n",
              "<style scoped>\n",
              "    .dataframe tbody tr th:only-of-type {\n",
              "        vertical-align: middle;\n",
              "    }\n",
              "\n",
              "    .dataframe tbody tr th {\n",
              "        vertical-align: top;\n",
              "    }\n",
              "\n",
              "    .dataframe thead th {\n",
              "        text-align: right;\n",
              "    }\n",
              "</style>\n",
              "<table border=\"1\" class=\"dataframe\">\n",
              "  <thead>\n",
              "    <tr style=\"text-align: right;\">\n",
              "      <th></th>\n",
              "      <th>date</th>\n",
              "      <th>open</th>\n",
              "      <th>high</th>\n",
              "      <th>low</th>\n",
              "      <th>close</th>\n",
              "    </tr>\n",
              "  </thead>\n",
              "  <tbody>\n",
              "    <tr>\n",
              "      <th>204</th>\n",
              "      <td>1/7/2011</td>\n",
              "      <td>$65.88</td>\n",
              "      <td>$65.88</td>\n",
              "      <td>$62.56</td>\n",
              "      <td>$62.92</td>\n",
              "    </tr>\n",
              "    <tr>\n",
              "      <th>205</th>\n",
              "      <td>1/14/2011</td>\n",
              "      <td>$62.70</td>\n",
              "      <td>$63.86</td>\n",
              "      <td>$62.56</td>\n",
              "      <td>$63.13</td>\n",
              "    </tr>\n",
              "    <tr>\n",
              "      <th>206</th>\n",
              "      <td>1/21/2011</td>\n",
              "      <td>$63.21</td>\n",
              "      <td>$63.92</td>\n",
              "      <td>$62.72</td>\n",
              "      <td>$62.77</td>\n",
              "    </tr>\n",
              "    <tr>\n",
              "      <th>207</th>\n",
              "      <td>1/28/2011</td>\n",
              "      <td>$62.87</td>\n",
              "      <td>$63.31</td>\n",
              "      <td>$62.14</td>\n",
              "      <td>$62.21</td>\n",
              "    </tr>\n",
              "    <tr>\n",
              "      <th>208</th>\n",
              "      <td>2/4/2011</td>\n",
              "      <td>$62.32</td>\n",
              "      <td>$63.48</td>\n",
              "      <td>$61.89</td>\n",
              "      <td>$62.56</td>\n",
              "    </tr>\n",
              "    <tr>\n",
              "      <th>209</th>\n",
              "      <td>2/11/2011</td>\n",
              "      <td>$62.67</td>\n",
              "      <td>$64.75</td>\n",
              "      <td>$62.32</td>\n",
              "      <td>$63.57</td>\n",
              "    </tr>\n",
              "    <tr>\n",
              "      <th>210</th>\n",
              "      <td>2/18/2011</td>\n",
              "      <td>$63.67</td>\n",
              "      <td>$64.72</td>\n",
              "      <td>$62.55</td>\n",
              "      <td>$64.55</td>\n",
              "    </tr>\n",
              "    <tr>\n",
              "      <th>211</th>\n",
              "      <td>2/25/2011</td>\n",
              "      <td>$63.36</td>\n",
              "      <td>$64.40</td>\n",
              "      <td>$63.33</td>\n",
              "      <td>$64.31</td>\n",
              "    </tr>\n",
              "    <tr>\n",
              "      <th>212</th>\n",
              "      <td>3/4/2011</td>\n",
              "      <td>$64.17</td>\n",
              "      <td>$65.87</td>\n",
              "      <td>$63.86</td>\n",
              "      <td>$65.21</td>\n",
              "    </tr>\n",
              "    <tr>\n",
              "      <th>213</th>\n",
              "      <td>3/11/2011</td>\n",
              "      <td>$65.32</td>\n",
              "      <td>$65.84</td>\n",
              "      <td>$64.47</td>\n",
              "      <td>$64.81</td>\n",
              "    </tr>\n",
              "  </tbody>\n",
              "</table>\n",
              "</div>\n",
              "      <button class=\"colab-df-convert\" onclick=\"convertToInteractive('df-09575517-f57b-40c2-b513-1f3a458edb73')\"\n",
              "              title=\"Convert this dataframe to an interactive table.\"\n",
              "              style=\"display:none;\">\n",
              "        \n",
              "  <svg xmlns=\"http://www.w3.org/2000/svg\" height=\"24px\"viewBox=\"0 0 24 24\"\n",
              "       width=\"24px\">\n",
              "    <path d=\"M0 0h24v24H0V0z\" fill=\"none\"/>\n",
              "    <path d=\"M18.56 5.44l.94 2.06.94-2.06 2.06-.94-2.06-.94-.94-2.06-.94 2.06-2.06.94zm-11 1L8.5 8.5l.94-2.06 2.06-.94-2.06-.94L8.5 2.5l-.94 2.06-2.06.94zm10 10l.94 2.06.94-2.06 2.06-.94-2.06-.94-.94-2.06-.94 2.06-2.06.94z\"/><path d=\"M17.41 7.96l-1.37-1.37c-.4-.4-.92-.59-1.43-.59-.52 0-1.04.2-1.43.59L10.3 9.45l-7.72 7.72c-.78.78-.78 2.05 0 2.83L4 21.41c.39.39.9.59 1.41.59.51 0 1.02-.2 1.41-.59l7.78-7.78 2.81-2.81c.8-.78.8-2.07 0-2.86zM5.41 20L4 18.59l7.72-7.72 1.47 1.35L5.41 20z\"/>\n",
              "  </svg>\n",
              "      </button>\n",
              "      \n",
              "  <style>\n",
              "    .colab-df-container {\n",
              "      display:flex;\n",
              "      flex-wrap:wrap;\n",
              "      gap: 12px;\n",
              "    }\n",
              "\n",
              "    .colab-df-convert {\n",
              "      background-color: #E8F0FE;\n",
              "      border: none;\n",
              "      border-radius: 50%;\n",
              "      cursor: pointer;\n",
              "      display: none;\n",
              "      fill: #1967D2;\n",
              "      height: 32px;\n",
              "      padding: 0 0 0 0;\n",
              "      width: 32px;\n",
              "    }\n",
              "\n",
              "    .colab-df-convert:hover {\n",
              "      background-color: #E2EBFA;\n",
              "      box-shadow: 0px 1px 2px rgba(60, 64, 67, 0.3), 0px 1px 3px 1px rgba(60, 64, 67, 0.15);\n",
              "      fill: #174EA6;\n",
              "    }\n",
              "\n",
              "    [theme=dark] .colab-df-convert {\n",
              "      background-color: #3B4455;\n",
              "      fill: #D2E3FC;\n",
              "    }\n",
              "\n",
              "    [theme=dark] .colab-df-convert:hover {\n",
              "      background-color: #434B5C;\n",
              "      box-shadow: 0px 1px 3px 1px rgba(0, 0, 0, 0.15);\n",
              "      filter: drop-shadow(0px 1px 2px rgba(0, 0, 0, 0.3));\n",
              "      fill: #FFFFFF;\n",
              "    }\n",
              "  </style>\n",
              "\n",
              "      <script>\n",
              "        const buttonEl =\n",
              "          document.querySelector('#df-09575517-f57b-40c2-b513-1f3a458edb73 button.colab-df-convert');\n",
              "        buttonEl.style.display =\n",
              "          google.colab.kernel.accessAllowed ? 'block' : 'none';\n",
              "\n",
              "        async function convertToInteractive(key) {\n",
              "          const element = document.querySelector('#df-09575517-f57b-40c2-b513-1f3a458edb73');\n",
              "          const dataTable =\n",
              "            await google.colab.kernel.invokeFunction('convertToInteractive',\n",
              "                                                     [key], {});\n",
              "          if (!dataTable) return;\n",
              "\n",
              "          const docLinkHtml = 'Like what you see? Visit the ' +\n",
              "            '<a target=\"_blank\" href=https://colab.research.google.com/notebooks/data_table.ipynb>data table notebook</a>'\n",
              "            + ' to learn more about interactive tables.';\n",
              "          element.innerHTML = '';\n",
              "          dataTable['output_type'] = 'display_data';\n",
              "          await google.colab.output.renderOutput(dataTable, element);\n",
              "          const docLink = document.createElement('div');\n",
              "          docLink.innerHTML = docLinkHtml;\n",
              "          element.appendChild(docLink);\n",
              "        }\n",
              "      </script>\n",
              "    </div>\n",
              "  </div>\n",
              "  "
            ]
          },
          "metadata": {},
          "execution_count": 129
        }
      ],
      "source": [
        "# Visualize os dados do dataframe\n",
        "df_ko.head(n=10)\n"
      ]
    },
    {
      "cell_type": "code",
      "execution_count": 130,
      "metadata": {
        "colab": {
          "base_uri": "https://localhost:8080/"
        },
        "id": "R-ElTN_P-zOZ",
        "outputId": "22d95c2d-d7d7-48fe-a81a-55dacd36d68a"
      },
      "outputs": [
        {
          "output_type": "execute_result",
          "data": {
            "text/plain": [
              "date     object\n",
              "open     object\n",
              "high     object\n",
              "low      object\n",
              "close    object\n",
              "dtype: object"
            ]
          },
          "metadata": {},
          "execution_count": 130
        }
      ],
      "source": [
        "# Verifique o tipo dos dados\n",
        "df_ko.dtypes"
      ]
    },
    {
      "cell_type": "markdown",
      "metadata": {
        "id": "92hVLZwJ-19w"
      },
      "source": [
        "Vamos limpar as colunas com o método `apply`, que permite a aplicação de uma função anônima (`lambda`) qualquer. A função `lambda` remove o caracter **$** e faz a conversão do tipo de `str` para `float`."
      ]
    },
    {
      "cell_type": "code",
      "execution_count": 131,
      "metadata": {
        "id": "bmSrE0Bx-5-U"
      },
      "outputs": [],
      "source": [
        "for col in ['open', 'high', 'low', 'close']:\n",
        "  df_ko[col] = df_ko[col].apply(lambda value: float(value.split(sep='$')[-1]))"
      ]
    },
    {
      "cell_type": "markdown",
      "metadata": {
        "id": "X5jYir-f_Axf"
      },
      "source": [
        "Verifique novamente os dados e seus tipos."
      ]
    },
    {
      "cell_type": "code",
      "execution_count": 132,
      "metadata": {
        "colab": {
          "base_uri": "https://localhost:8080/",
          "height": 363
        },
        "id": "8xyny0qy_BU0",
        "outputId": "6f16bc3e-0d91-4255-cc7b-fdf9a476c314"
      },
      "outputs": [
        {
          "output_type": "execute_result",
          "data": {
            "text/plain": [
              "          date   open   high    low  close\n",
              "204   1/7/2011  65.88  65.88  62.56  62.92\n",
              "205  1/14/2011  62.70  63.86  62.56  63.13\n",
              "206  1/21/2011  63.21  63.92  62.72  62.77\n",
              "207  1/28/2011  62.87  63.31  62.14  62.21\n",
              "208   2/4/2011  62.32  63.48  61.89  62.56\n",
              "209  2/11/2011  62.67  64.75  62.32  63.57\n",
              "210  2/18/2011  63.67  64.72  62.55  64.55\n",
              "211  2/25/2011  63.36  64.40  63.33  64.31\n",
              "212   3/4/2011  64.17  65.87  63.86  65.21\n",
              "213  3/11/2011  65.32  65.84  64.47  64.81"
            ],
            "text/html": [
              "\n",
              "  <div id=\"df-98d28700-7a17-4e95-bfc9-098bcac793b0\">\n",
              "    <div class=\"colab-df-container\">\n",
              "      <div>\n",
              "<style scoped>\n",
              "    .dataframe tbody tr th:only-of-type {\n",
              "        vertical-align: middle;\n",
              "    }\n",
              "\n",
              "    .dataframe tbody tr th {\n",
              "        vertical-align: top;\n",
              "    }\n",
              "\n",
              "    .dataframe thead th {\n",
              "        text-align: right;\n",
              "    }\n",
              "</style>\n",
              "<table border=\"1\" class=\"dataframe\">\n",
              "  <thead>\n",
              "    <tr style=\"text-align: right;\">\n",
              "      <th></th>\n",
              "      <th>date</th>\n",
              "      <th>open</th>\n",
              "      <th>high</th>\n",
              "      <th>low</th>\n",
              "      <th>close</th>\n",
              "    </tr>\n",
              "  </thead>\n",
              "  <tbody>\n",
              "    <tr>\n",
              "      <th>204</th>\n",
              "      <td>1/7/2011</td>\n",
              "      <td>65.88</td>\n",
              "      <td>65.88</td>\n",
              "      <td>62.56</td>\n",
              "      <td>62.92</td>\n",
              "    </tr>\n",
              "    <tr>\n",
              "      <th>205</th>\n",
              "      <td>1/14/2011</td>\n",
              "      <td>62.70</td>\n",
              "      <td>63.86</td>\n",
              "      <td>62.56</td>\n",
              "      <td>63.13</td>\n",
              "    </tr>\n",
              "    <tr>\n",
              "      <th>206</th>\n",
              "      <td>1/21/2011</td>\n",
              "      <td>63.21</td>\n",
              "      <td>63.92</td>\n",
              "      <td>62.72</td>\n",
              "      <td>62.77</td>\n",
              "    </tr>\n",
              "    <tr>\n",
              "      <th>207</th>\n",
              "      <td>1/28/2011</td>\n",
              "      <td>62.87</td>\n",
              "      <td>63.31</td>\n",
              "      <td>62.14</td>\n",
              "      <td>62.21</td>\n",
              "    </tr>\n",
              "    <tr>\n",
              "      <th>208</th>\n",
              "      <td>2/4/2011</td>\n",
              "      <td>62.32</td>\n",
              "      <td>63.48</td>\n",
              "      <td>61.89</td>\n",
              "      <td>62.56</td>\n",
              "    </tr>\n",
              "    <tr>\n",
              "      <th>209</th>\n",
              "      <td>2/11/2011</td>\n",
              "      <td>62.67</td>\n",
              "      <td>64.75</td>\n",
              "      <td>62.32</td>\n",
              "      <td>63.57</td>\n",
              "    </tr>\n",
              "    <tr>\n",
              "      <th>210</th>\n",
              "      <td>2/18/2011</td>\n",
              "      <td>63.67</td>\n",
              "      <td>64.72</td>\n",
              "      <td>62.55</td>\n",
              "      <td>64.55</td>\n",
              "    </tr>\n",
              "    <tr>\n",
              "      <th>211</th>\n",
              "      <td>2/25/2011</td>\n",
              "      <td>63.36</td>\n",
              "      <td>64.40</td>\n",
              "      <td>63.33</td>\n",
              "      <td>64.31</td>\n",
              "    </tr>\n",
              "    <tr>\n",
              "      <th>212</th>\n",
              "      <td>3/4/2011</td>\n",
              "      <td>64.17</td>\n",
              "      <td>65.87</td>\n",
              "      <td>63.86</td>\n",
              "      <td>65.21</td>\n",
              "    </tr>\n",
              "    <tr>\n",
              "      <th>213</th>\n",
              "      <td>3/11/2011</td>\n",
              "      <td>65.32</td>\n",
              "      <td>65.84</td>\n",
              "      <td>64.47</td>\n",
              "      <td>64.81</td>\n",
              "    </tr>\n",
              "  </tbody>\n",
              "</table>\n",
              "</div>\n",
              "      <button class=\"colab-df-convert\" onclick=\"convertToInteractive('df-98d28700-7a17-4e95-bfc9-098bcac793b0')\"\n",
              "              title=\"Convert this dataframe to an interactive table.\"\n",
              "              style=\"display:none;\">\n",
              "        \n",
              "  <svg xmlns=\"http://www.w3.org/2000/svg\" height=\"24px\"viewBox=\"0 0 24 24\"\n",
              "       width=\"24px\">\n",
              "    <path d=\"M0 0h24v24H0V0z\" fill=\"none\"/>\n",
              "    <path d=\"M18.56 5.44l.94 2.06.94-2.06 2.06-.94-2.06-.94-.94-2.06-.94 2.06-2.06.94zm-11 1L8.5 8.5l.94-2.06 2.06-.94-2.06-.94L8.5 2.5l-.94 2.06-2.06.94zm10 10l.94 2.06.94-2.06 2.06-.94-2.06-.94-.94-2.06-.94 2.06-2.06.94z\"/><path d=\"M17.41 7.96l-1.37-1.37c-.4-.4-.92-.59-1.43-.59-.52 0-1.04.2-1.43.59L10.3 9.45l-7.72 7.72c-.78.78-.78 2.05 0 2.83L4 21.41c.39.39.9.59 1.41.59.51 0 1.02-.2 1.41-.59l7.78-7.78 2.81-2.81c.8-.78.8-2.07 0-2.86zM5.41 20L4 18.59l7.72-7.72 1.47 1.35L5.41 20z\"/>\n",
              "  </svg>\n",
              "      </button>\n",
              "      \n",
              "  <style>\n",
              "    .colab-df-container {\n",
              "      display:flex;\n",
              "      flex-wrap:wrap;\n",
              "      gap: 12px;\n",
              "    }\n",
              "\n",
              "    .colab-df-convert {\n",
              "      background-color: #E8F0FE;\n",
              "      border: none;\n",
              "      border-radius: 50%;\n",
              "      cursor: pointer;\n",
              "      display: none;\n",
              "      fill: #1967D2;\n",
              "      height: 32px;\n",
              "      padding: 0 0 0 0;\n",
              "      width: 32px;\n",
              "    }\n",
              "\n",
              "    .colab-df-convert:hover {\n",
              "      background-color: #E2EBFA;\n",
              "      box-shadow: 0px 1px 2px rgba(60, 64, 67, 0.3), 0px 1px 3px 1px rgba(60, 64, 67, 0.15);\n",
              "      fill: #174EA6;\n",
              "    }\n",
              "\n",
              "    [theme=dark] .colab-df-convert {\n",
              "      background-color: #3B4455;\n",
              "      fill: #D2E3FC;\n",
              "    }\n",
              "\n",
              "    [theme=dark] .colab-df-convert:hover {\n",
              "      background-color: #434B5C;\n",
              "      box-shadow: 0px 1px 3px 1px rgba(0, 0, 0, 0.15);\n",
              "      filter: drop-shadow(0px 1px 2px rgba(0, 0, 0, 0.3));\n",
              "      fill: #FFFFFF;\n",
              "    }\n",
              "  </style>\n",
              "\n",
              "      <script>\n",
              "        const buttonEl =\n",
              "          document.querySelector('#df-98d28700-7a17-4e95-bfc9-098bcac793b0 button.colab-df-convert');\n",
              "        buttonEl.style.display =\n",
              "          google.colab.kernel.accessAllowed ? 'block' : 'none';\n",
              "\n",
              "        async function convertToInteractive(key) {\n",
              "          const element = document.querySelector('#df-98d28700-7a17-4e95-bfc9-098bcac793b0');\n",
              "          const dataTable =\n",
              "            await google.colab.kernel.invokeFunction('convertToInteractive',\n",
              "                                                     [key], {});\n",
              "          if (!dataTable) return;\n",
              "\n",
              "          const docLinkHtml = 'Like what you see? Visit the ' +\n",
              "            '<a target=\"_blank\" href=https://colab.research.google.com/notebooks/data_table.ipynb>data table notebook</a>'\n",
              "            + ' to learn more about interactive tables.';\n",
              "          element.innerHTML = '';\n",
              "          dataTable['output_type'] = 'display_data';\n",
              "          await google.colab.output.renderOutput(dataTable, element);\n",
              "          const docLink = document.createElement('div');\n",
              "          docLink.innerHTML = docLinkHtml;\n",
              "          element.appendChild(docLink);\n",
              "        }\n",
              "      </script>\n",
              "    </div>\n",
              "  </div>\n",
              "  "
            ]
          },
          "metadata": {},
          "execution_count": 132
        }
      ],
      "source": [
        "# Visualize novamente os dados do dataframe\n",
        "\n",
        "df_ko.head(n=10)"
      ]
    },
    {
      "cell_type": "code",
      "execution_count": 133,
      "metadata": {
        "colab": {
          "base_uri": "https://localhost:8080/"
        },
        "id": "R6e7i5ry_BhV",
        "outputId": "57c31b5d-46ed-43e5-f5e0-01c359f88bf9"
      },
      "outputs": [
        {
          "output_type": "execute_result",
          "data": {
            "text/plain": [
              "date      object\n",
              "open     float64\n",
              "high     float64\n",
              "low      float64\n",
              "close    float64\n",
              "dtype: object"
            ]
          },
          "metadata": {},
          "execution_count": 133
        }
      ],
      "source": [
        "# Verifique novamente o tipo dos dados\n",
        "\n",
        "df_ko.dtypes\n",
        "\n",
        "# Os dados continuam sendo object e os dados de 'open', 'high', 'low', 'close' passama ser float"
      ]
    },
    {
      "cell_type": "markdown",
      "metadata": {
        "id": "pNBMYO0g--1X"
      },
      "source": [
        "Excelente, agora podemos explorar os dados visualmente."
      ]
    },
    {
      "cell_type": "markdown",
      "metadata": {
        "id": "AAyOBwWQkRJ-"
      },
      "source": [
        "---"
      ]
    },
    {
      "cell_type": "markdown",
      "metadata": {
        "id": "1YCQI-BskR5H"
      },
      "source": [
        "## 2\\. Seaborn"
      ]
    },
    {
      "cell_type": "markdown",
      "metadata": {
        "id": "VSgsKxY4kR5I"
      },
      "source": [
        "Para visualizar os dados, vamos utilizar o pacote `seaborn` na versão `0.11.1`. A documentação completa por ser encontrada neste [link](https://seaborn.pydata.org/)"
      ]
    },
    {
      "cell_type": "code",
      "execution_count": 134,
      "metadata": {
        "colab": {
          "base_uri": "https://localhost:8080/"
        },
        "id": "fYNfn2eDs1MN",
        "outputId": "2d495c38-00bb-45ee-b3c9-f2fd4a4ea60a"
      },
      "outputs": [
        {
          "output_type": "stream",
          "name": "stdout",
          "text": [
            "Looking in indexes: https://pypi.org/simple, https://us-python.pkg.dev/colab-wheels/public/simple/\n",
            "Requirement already satisfied: seaborn==0.11.1 in /usr/local/lib/python3.7/dist-packages (0.11.1)\n",
            "Requirement already satisfied: numpy>=1.15 in /usr/local/lib/python3.7/dist-packages (from seaborn==0.11.1) (1.21.6)\n",
            "Requirement already satisfied: scipy>=1.0 in /usr/local/lib/python3.7/dist-packages (from seaborn==0.11.1) (1.7.3)\n",
            "Requirement already satisfied: pandas>=0.23 in /usr/local/lib/python3.7/dist-packages (from seaborn==0.11.1) (1.1.5)\n",
            "Requirement already satisfied: matplotlib>=2.2 in /usr/local/lib/python3.7/dist-packages (from seaborn==0.11.1) (3.2.2)\n",
            "Requirement already satisfied: python-dateutil>=2.1 in /usr/local/lib/python3.7/dist-packages (from matplotlib>=2.2->seaborn==0.11.1) (2.8.2)\n",
            "Requirement already satisfied: kiwisolver>=1.0.1 in /usr/local/lib/python3.7/dist-packages (from matplotlib>=2.2->seaborn==0.11.1) (1.4.4)\n",
            "Requirement already satisfied: cycler>=0.10 in /usr/local/lib/python3.7/dist-packages (from matplotlib>=2.2->seaborn==0.11.1) (0.11.0)\n",
            "Requirement already satisfied: pyparsing!=2.0.4,!=2.1.2,!=2.1.6,>=2.0.1 in /usr/local/lib/python3.7/dist-packages (from matplotlib>=2.2->seaborn==0.11.1) (3.0.9)\n",
            "Requirement already satisfied: typing-extensions in /usr/local/lib/python3.7/dist-packages (from kiwisolver>=1.0.1->matplotlib>=2.2->seaborn==0.11.1) (4.1.1)\n",
            "Requirement already satisfied: pytz>=2017.2 in /usr/local/lib/python3.7/dist-packages (from pandas>=0.23->seaborn==0.11.1) (2022.6)\n",
            "Requirement already satisfied: six>=1.5 in /usr/local/lib/python3.7/dist-packages (from python-dateutil>=2.1->matplotlib>=2.2->seaborn==0.11.1) (1.15.0)\n"
          ]
        }
      ],
      "source": [
        "!pip install seaborn==0.11.1"
      ]
    },
    {
      "cell_type": "markdown",
      "metadata": {
        "id": "DtuGrHyQ0CJ-"
      },
      "source": [
        "Vamos importar o pacote com o apelido (alias) `sns`."
      ]
    },
    {
      "cell_type": "code",
      "execution_count": 135,
      "metadata": {
        "id": "fAeWYQjis8E5"
      },
      "outputs": [],
      "source": [
        "import seaborn as sns"
      ]
    },
    {
      "cell_type": "markdown",
      "metadata": {
        "id": "TqYmOY1m0Eh3"
      },
      "source": [
        "Vamos visualizar os valores de abertura das ações ao longo do tempo."
      ]
    },
    {
      "cell_type": "code",
      "execution_count": 136,
      "metadata": {
        "colab": {
          "base_uri": "https://localhost:8080/",
          "height": 321
        },
        "id": "7-5D1wKcwAuO",
        "outputId": "2283bfd1-0a23-47fd-e545-8c183f8319c3"
      },
      "outputs": [
        {
          "output_type": "display_data",
          "data": {
            "text/plain": [
              "<Figure size 432x288 with 1 Axes>"
            ],
            "image/png": "[encoded data removed]"
          },
          "metadata": {
            "needs_background": "light"
          }
        }
      ],
      "source": [
        "plot = sns.lineplot(x=\"date\", y=\"open\", data=df_mcd)\n",
        "_ = plot.set_xticklabels(labels=df_mcd['date'], rotation=90)\n",
        "\n",
        "# O método plot cria um gráfico de linhas. Podemos ver que os meses ficaram na parte horizontal do gráfico, isto é, no eixo X . Enquanto os valores ficaram na parte \n",
        "# vertical do gráfico, ou seja, no eixo Y . Com o gráfico, podemos ver de uma forma mais clara como foram as vendas em cada mês no primeiro semestre\n"
      ]
    },
    {
      "cell_type": "markdown",
      "metadata": {
        "id": "gh5Fz23t0MA-"
      },
      "source": [
        "Vamos também visualizar os valores de fechamento das ações ao longo do tempo."
      ]
    },
    {
      "cell_type": "code",
      "execution_count": 137,
      "metadata": {
        "colab": {
          "base_uri": "https://localhost:8080/",
          "height": 321
        },
        "id": "5QARzs47wP_O",
        "outputId": "d18972c4-d841-4948-b90a-8188f1e10d4c"
      },
      "outputs": [
        {
          "output_type": "display_data",
          "data": {
            "text/plain": [
              "<Figure size 432x288 with 1 Axes>"
            ],
            "image/png": "[encoded data removed]"
          },
          "metadata": {
            "needs_background": "light"
          }
        }
      ],
      "source": [
        "plot = sns.lineplot(x=\"date\", y=\"close\", data=df_mcd)\n",
        "_ = plot.set_xticklabels(labels=df_mcd['date'], rotation=90)"
      ]
    },
    {
      "cell_type": "markdown",
      "metadata": {
        "id": "08BOzhId0TfH"
      },
      "source": [
        "Para facilitar a comparação, vamo visualizar os quatro valores no mesmo gráfico."
      ]
    },
    {
      "cell_type": "code",
      "execution_count": 138,
      "metadata": {
        "colab": {
          "base_uri": "https://localhost:8080/",
          "height": 321
        },
        "id": "boKoMZbXtAJV",
        "outputId": "b2d79375-ecaf-463f-873a-45f32d50c113"
      },
      "outputs": [
        {
          "output_type": "display_data",
          "data": {
            "text/plain": [
              "<Figure size 432x288 with 1 Axes>"
            ],
            "image/png": "[encoded data removed]"
          },
          "metadata": {
            "needs_background": "light"
          }
        }
      ],
      "source": [
        "plot = sns.lineplot(x=\"date\", y=\"value\", hue='variable', data=pd.melt(df_mcd, ['date']))\n",
        "_ = plot.set_xticklabels(labels=df_mcd['date'], rotation=90)"
      ]
    },
    {
      "cell_type": "markdown",
      "metadata": {
        "id": "H6nM4hJQ1mnb"
      },
      "source": [
        "Para finalizar, vamos salvar o gráfico numa figura."
      ]
    },
    {
      "cell_type": "code",
      "execution_count": 139,
      "metadata": {
        "id": "I7Wncbvd1lzE"
      },
      "outputs": [],
      "source": [
        "plot.figure.savefig(\"./mcd.png\")"
      ]
    },
    {
      "cell_type": "markdown",
      "metadata": {
        "id": "4mJNcUM7kR5J"
      },
      "source": [
        "**Agora é a sua vez,** faça o gráfico acima para a empresa Coca-Cola e salve a imagem com o nome `ko.png`."
      ]
    },
    {
      "cell_type": "code",
      "execution_count": 140,
      "metadata": {
        "colab": {
          "base_uri": "https://localhost:8080/",
          "height": 363
        },
        "id": "0S_xMlt_zjwV",
        "outputId": "aff3428c-97be-4795-893f-630ef5b90411"
      },
      "outputs": [
        {
          "output_type": "execute_result",
          "data": {
            "text/plain": [
              "          date   open   high    low  close\n",
              "204   1/7/2011  65.88  65.88  62.56  62.92\n",
              "205  1/14/2011  62.70  63.86  62.56  63.13\n",
              "206  1/21/2011  63.21  63.92  62.72  62.77\n",
              "207  1/28/2011  62.87  63.31  62.14  62.21\n",
              "208   2/4/2011  62.32  63.48  61.89  62.56\n",
              "209  2/11/2011  62.67  64.75  62.32  63.57\n",
              "210  2/18/2011  63.67  64.72  62.55  64.55\n",
              "211  2/25/2011  63.36  64.40  63.33  64.31\n",
              "212   3/4/2011  64.17  65.87  63.86  65.21\n",
              "213  3/11/2011  65.32  65.84  64.47  64.81"
            ],
            "text/html": [
              "\n",
              "  <div id=\"df-49ce2309-e4a2-4231-ac1a-62ca15309321\">\n",
              "    <div class=\"colab-df-container\">\n",
              "      <div>\n",
              "<style scoped>\n",
              "    .dataframe tbody tr th:only-of-type {\n",
              "        vertical-align: middle;\n",
              "    }\n",
              "\n",
              "    .dataframe tbody tr th {\n",
              "        vertical-align: top;\n",
              "    }\n",
              "\n",
              "    .dataframe thead th {\n",
              "        text-align: right;\n",
              "    }\n",
              "</style>\n",
              "<table border=\"1\" class=\"dataframe\">\n",
              "  <thead>\n",
              "    <tr style=\"text-align: right;\">\n",
              "      <th></th>\n",
              "      <th>date</th>\n",
              "      <th>open</th>\n",
              "      <th>high</th>\n",
              "      <th>low</th>\n",
              "      <th>close</th>\n",
              "    </tr>\n",
              "  </thead>\n",
              "  <tbody>\n",
              "    <tr>\n",
              "      <th>204</th>\n",
              "      <td>1/7/2011</td>\n",
              "      <td>65.88</td>\n",
              "      <td>65.88</td>\n",
              "      <td>62.56</td>\n",
              "      <td>62.92</td>\n",
              "    </tr>\n",
              "    <tr>\n",
              "      <th>205</th>\n",
              "      <td>1/14/2011</td>\n",
              "      <td>62.70</td>\n",
              "      <td>63.86</td>\n",
              "      <td>62.56</td>\n",
              "      <td>63.13</td>\n",
              "    </tr>\n",
              "    <tr>\n",
              "      <th>206</th>\n",
              "      <td>1/21/2011</td>\n",
              "      <td>63.21</td>\n",
              "      <td>63.92</td>\n",
              "      <td>62.72</td>\n",
              "      <td>62.77</td>\n",
              "    </tr>\n",
              "    <tr>\n",
              "      <th>207</th>\n",
              "      <td>1/28/2011</td>\n",
              "      <td>62.87</td>\n",
              "      <td>63.31</td>\n",
              "      <td>62.14</td>\n",
              "      <td>62.21</td>\n",
              "    </tr>\n",
              "    <tr>\n",
              "      <th>208</th>\n",
              "      <td>2/4/2011</td>\n",
              "      <td>62.32</td>\n",
              "      <td>63.48</td>\n",
              "      <td>61.89</td>\n",
              "      <td>62.56</td>\n",
              "    </tr>\n",
              "    <tr>\n",
              "      <th>209</th>\n",
              "      <td>2/11/2011</td>\n",
              "      <td>62.67</td>\n",
              "      <td>64.75</td>\n",
              "      <td>62.32</td>\n",
              "      <td>63.57</td>\n",
              "    </tr>\n",
              "    <tr>\n",
              "      <th>210</th>\n",
              "      <td>2/18/2011</td>\n",
              "      <td>63.67</td>\n",
              "      <td>64.72</td>\n",
              "      <td>62.55</td>\n",
              "      <td>64.55</td>\n",
              "    </tr>\n",
              "    <tr>\n",
              "      <th>211</th>\n",
              "      <td>2/25/2011</td>\n",
              "      <td>63.36</td>\n",
              "      <td>64.40</td>\n",
              "      <td>63.33</td>\n",
              "      <td>64.31</td>\n",
              "    </tr>\n",
              "    <tr>\n",
              "      <th>212</th>\n",
              "      <td>3/4/2011</td>\n",
              "      <td>64.17</td>\n",
              "      <td>65.87</td>\n",
              "      <td>63.86</td>\n",
              "      <td>65.21</td>\n",
              "    </tr>\n",
              "    <tr>\n",
              "      <th>213</th>\n",
              "      <td>3/11/2011</td>\n",
              "      <td>65.32</td>\n",
              "      <td>65.84</td>\n",
              "      <td>64.47</td>\n",
              "      <td>64.81</td>\n",
              "    </tr>\n",
              "  </tbody>\n",
              "</table>\n",
              "</div>\n",
              "      <button class=\"colab-df-convert\" onclick=\"convertToInteractive('df-49ce2309-e4a2-4231-ac1a-62ca15309321')\"\n",
              "              title=\"Convert this dataframe to an interactive table.\"\n",
              "              style=\"display:none;\">\n",
              "        \n",
              "  <svg xmlns=\"http://www.w3.org/2000/svg\" height=\"24px\"viewBox=\"0 0 24 24\"\n",
              "       width=\"24px\">\n",
              "    <path d=\"M0 0h24v24H0V0z\" fill=\"none\"/>\n",
              "    <path d=\"M18.56 5.44l.94 2.06.94-2.06 2.06-.94-2.06-.94-.94-2.06-.94 2.06-2.06.94zm-11 1L8.5 8.5l.94-2.06 2.06-.94-2.06-.94L8.5 2.5l-.94 2.06-2.06.94zm10 10l.94 2.06.94-2.06 2.06-.94-2.06-.94-.94-2.06-.94 2.06-2.06.94z\"/><path d=\"M17.41 7.96l-1.37-1.37c-.4-.4-.92-.59-1.43-.59-.52 0-1.04.2-1.43.59L10.3 9.45l-7.72 7.72c-.78.78-.78 2.05 0 2.83L4 21.41c.39.39.9.59 1.41.59.51 0 1.02-.2 1.41-.59l7.78-7.78 2.81-2.81c.8-.78.8-2.07 0-2.86zM5.41 20L4 18.59l7.72-7.72 1.47 1.35L5.41 20z\"/>\n",
              "  </svg>\n",
              "      </button>\n",
              "      \n",
              "  <style>\n",
              "    .colab-df-container {\n",
              "      display:flex;\n",
              "      flex-wrap:wrap;\n",
              "      gap: 12px;\n",
              "    }\n",
              "\n",
              "    .colab-df-convert {\n",
              "      background-color: #E8F0FE;\n",
              "      border: none;\n",
              "      border-radius: 50%;\n",
              "      cursor: pointer;\n",
              "      display: none;\n",
              "      fill: #1967D2;\n",
              "      height: 32px;\n",
              "      padding: 0 0 0 0;\n",
              "      width: 32px;\n",
              "    }\n",
              "\n",
              "    .colab-df-convert:hover {\n",
              "      background-color: #E2EBFA;\n",
              "      box-shadow: 0px 1px 2px rgba(60, 64, 67, 0.3), 0px 1px 3px 1px rgba(60, 64, 67, 0.15);\n",
              "      fill: #174EA6;\n",
              "    }\n",
              "\n",
              "    [theme=dark] .colab-df-convert {\n",
              "      background-color: #3B4455;\n",
              "      fill: #D2E3FC;\n",
              "    }\n",
              "\n",
              "    [theme=dark] .colab-df-convert:hover {\n",
              "      background-color: #434B5C;\n",
              "      box-shadow: 0px 1px 3px 1px rgba(0, 0, 0, 0.15);\n",
              "      filter: drop-shadow(0px 1px 2px rgba(0, 0, 0, 0.3));\n",
              "      fill: #FFFFFF;\n",
              "    }\n",
              "  </style>\n",
              "\n",
              "      <script>\n",
              "        const buttonEl =\n",
              "          document.querySelector('#df-49ce2309-e4a2-4231-ac1a-62ca15309321 button.colab-df-convert');\n",
              "        buttonEl.style.display =\n",
              "          google.colab.kernel.accessAllowed ? 'block' : 'none';\n",
              "\n",
              "        async function convertToInteractive(key) {\n",
              "          const element = document.querySelector('#df-49ce2309-e4a2-4231-ac1a-62ca15309321');\n",
              "          const dataTable =\n",
              "            await google.colab.kernel.invokeFunction('convertToInteractive',\n",
              "                                                     [key], {});\n",
              "          if (!dataTable) return;\n",
              "\n",
              "          const docLinkHtml = 'Like what you see? Visit the ' +\n",
              "            '<a target=\"_blank\" href=https://colab.research.google.com/notebooks/data_table.ipynb>data table notebook</a>'\n",
              "            + ' to learn more about interactive tables.';\n",
              "          element.innerHTML = '';\n",
              "          dataTable['output_type'] = 'display_data';\n",
              "          await google.colab.output.renderOutput(dataTable, element);\n",
              "          const docLink = document.createElement('div');\n",
              "          docLink.innerHTML = docLinkHtml;\n",
              "          element.appendChild(docLink);\n",
              "        }\n",
              "      </script>\n",
              "    </div>\n",
              "  </div>\n",
              "  "
            ]
          },
          "metadata": {},
          "execution_count": 140
        }
      ],
      "source": [
        "# visualização dos dados da Coca-Cola.\n",
        "\n",
        "df_ko.head(n=10)\n"
      ]
    },
    {
      "cell_type": "markdown",
      "metadata": {
        "id": "0rYmjC-q_jCc"
      },
      "source": [
        "Vamos visualizar os valores de abertura das ações ao longo do tempo."
      ]
    },
    {
      "cell_type": "code",
      "execution_count": 141,
      "metadata": {
        "colab": {
          "base_uri": "https://localhost:8080/",
          "height": 321
        },
        "id": "SxPl6w-s_kVm",
        "outputId": "1cee0927-8571-4239-c7e3-345567105356"
      },
      "outputs": [
        {
          "output_type": "display_data",
          "data": {
            "text/plain": [
              "<Figure size 432x288 with 1 Axes>"
            ],
            "image/png": "[encoded data removed]"
          },
          "metadata": {
            "needs_background": "light"
          }
        }
      ],
      "source": [
        "plot = sns.lineplot(x=\"date\", y=\"open\", data=df_ko)\n",
        "_ = plot.set_xticklabels(labels=df_ko['date'], rotation=90)"
      ]
    },
    {
      "cell_type": "markdown",
      "metadata": {
        "id": "d3GrC1rl_m4_"
      },
      "source": [
        "Vamos também visualizar os valores de fechamento das ações ao longo do tempo."
      ]
    },
    {
      "cell_type": "code",
      "execution_count": 142,
      "metadata": {
        "colab": {
          "base_uri": "https://localhost:8080/",
          "height": 321
        },
        "id": "VBSyo4p3_nvb",
        "outputId": "d1fb4078-6212-4f34-ce08-a3ff68c9b4e7"
      },
      "outputs": [
        {
          "output_type": "display_data",
          "data": {
            "text/plain": [
              "<Figure size 432x288 with 1 Axes>"
            ],
            "image/png": "[encoded data removed]"
          },
          "metadata": {
            "needs_background": "light"
          }
        }
      ],
      "source": [
        "plot = sns.lineplot(x=\"date\", y=\"close\", data=df_ko)\n",
        "_ = plot.set_xticklabels(labels=df_ko['date'], rotation=90)"
      ]
    },
    {
      "cell_type": "markdown",
      "metadata": {
        "id": "a9hHy2nA_qII"
      },
      "source": [
        "Para facilitar a comparação, vamo visualizar os quatro valores no mesmo gráfico."
      ]
    },
    {
      "cell_type": "code",
      "execution_count": 143,
      "metadata": {
        "id": "CM8Ghjdw_rt7",
        "colab": {
          "base_uri": "https://localhost:8080/",
          "height": 321
        },
        "outputId": "52588832-d044-487f-8e62-27d94047acab"
      },
      "outputs": [
        {
          "output_type": "display_data",
          "data": {
            "text/plain": [
              "<Figure size 432x288 with 1 Axes>"
            ],
            "image/png": "[encoded data removed]"
          },
          "metadata": {
            "needs_background": "light"
          }
        }
      ],
      "source": [
        "plot = sns.lineplot(x=\"date\", y=\"value\", hue='variable', data=pd.melt(df_ko, ['date']))\n",
        "_ = plot.set_xticklabels(labels=df_ko['date'], rotation=90)"
      ]
    },
    {
      "cell_type": "markdown",
      "metadata": {
        "id": "A1ul0Eve_vW3"
      },
      "source": [
        "Para finalizar, vamos salvar o gráfico numa figura."
      ]
    },
    {
      "cell_type": "code",
      "execution_count": 144,
      "metadata": {
        "id": "V7yzkTck_wFv"
      },
      "outputs": [],
      "source": [
        "plot.figure.savefig(\"./ko.png\")"
      ]
    },
    {
      "cell_type": "markdown",
      "metadata": {
        "id": "fYM0WRi0zoQx"
      },
      "source": [
        "Analise as duas imagens e escreva pelo menos um *insight* que você consegue extrair dos dados. Fique a vontade para escrever quantos *insights* você quiser."
      ]
    },
    {
      "cell_type": "markdown",
      "metadata": {
        "id": "0RT4NASCA5QI"
      },
      "source": [
        "Obs: *Insights* são observações sobre o que você percebe/entende/interpreta em suas análises. No caso deste exercício, você vai analisar os dados dos gráficos da empresa McDonalds e da empresa Cola-Cola e notar o que os dados gerados podem ser interessante, que tipo de interpretação o comportamento dos dados estão te trazendo."
      ]
    },
    {
      "cell_type": "markdown",
      "source": [
        "**Insigths de comparação do comportamento das ações das empresas McDonalds e Coca-cola na bolsa de Dow Jones**"
      ],
      "metadata": {
        "id": "CoD_AkUJi5U1"
      }
    },
    {
      "cell_type": "markdown",
      "source": [
        "**Valores tabelados referentes a abertura, alta, baixa e fechamento das empresas**\n",
        "\n",
        "Valores - Ações McDonalds (MCD)\n",
        "\n",
        "![tabela valores - MCD.jpg](data:image/jpeg;base64,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)\n",
        "\n",
        "\n",
        "Valores - Ações Coca-Cola (KO)\n",
        "\n",
        "![Tabela valores - KO.jpg](data:image/jpeg;base64,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)\n",
        "\n"
      ],
      "metadata": {
        "id": "5wmKOIbvjQx1"
      }
    },
    {
      "cell_type": "markdown",
      "source": [
        "Fazendo o cálculo das **médias aritméticas** de cada variável de forma separada nós obteremos os seguintes valores:\n",
        "\n",
        "\n",
        "**Dados empresa MCD:**\n",
        "\n",
        "Valores de abertura: média = 75.11\n",
        "\n",
        "Valores de alta: média = 76,10\n",
        "\n",
        "Valores de baixa: média = 73.65\n",
        "\n",
        "Valores de fechamento: média = 75.00\n",
        "\n",
        "\n",
        "**Dados empresa KO:**\n",
        "\n",
        "Valores de abertura: média = 63,61\n",
        "\n",
        "Valores de alta: média = 64.60\n",
        "\n",
        "Valores de baixa: média = 62.84\n",
        "\n",
        "Valores de fechamento: média = 63.60\n",
        "\n",
        "\n"
      ],
      "metadata": {
        "id": "-nVhSyVtpkHl"
      }
    },
    {
      "cell_type": "markdown",
      "source": [
        "**Análise das médias:**\n",
        "\n",
        "De acordo com os valores de médias aritméticas ao longo das datas propostas no gráfico:\n",
        "\n",
        "**Para a empresa MCD:**\n",
        "\n",
        "- Temos uma variação entre o valor inicial (dado na primeira data) e o valor final (dado na última data) no valor de -0.11.\n",
        "\n",
        "Isso nos indica que um investimento feito na primeira data nos retornaria uma perda no valor final, ou seja, teríamos um prejuízo.\n",
        "\n",
        "\n",
        "**Para a empresa KO:**\n",
        "\n",
        "- Temos uma variação entre o valor inicial (dado na primeira data) e o valor final (dado na última data) no valor de 0.01.\n",
        "\n",
        "Isso nos indica que um investimento feito na primeira data nos retornaria uma pganho no valor final, ou seja, teríamos um lucro, porém um pequeno lucro, vide a taxa de variação.\n",
        "\n",
        "\n",
        "**Observação:**\n",
        "\n",
        "Esses Valores são dados ao longo de 2 meses e meio, ou seja, o investimento precisaria ter necessariamente este range para obtermos estes valores, porém quando falamos de investidos de risco, iste é, que trabalham com prazos mais curtos como, dias ou semanas, teremos um outro quadro.\n",
        "\n",
        "\n",
        "**Insight #1 - ** A empresa da Coca-Cola produz um melhor investimento quando se comparado as ações do McDonaldds nesse caso."
      ],
      "metadata": {
        "id": "NAki2mtJrxHp"
      }
    },
    {
      "cell_type": "markdown",
      "source": [
        "\n",
        "\n",
        "**Diferença entre valores:**\n",
        "\n",
        "- Quando tratamos da diferença dos valores de alta e baixa, as maiores variações estão no escopo da empresa McDonalds\n",
        "\n",
        "- Quando tratamos da diferença entre valores de abertura e fechamento, as maiores variações se encontram no escopo da empresa McDonalds.\n",
        "\n",
        "- Se traçarmos a diferença entre os quatrovalores de dois a dois (como os dados do exemplo acima) notamos que as ações da Mcdonalds tem as maiores variações entre as variáveis\n",
        "\n"
      ],
      "metadata": {
        "id": "MSWTKFecuH4q"
      }
    },
    {
      "cell_type": "markdown",
      "metadata": {
        "id": "xGcI2Yl-0xBY"
      },
      "source": [
        "**Insight #2 -** As ações do Mcdonalds, por serem mais voláteis, podem produzir maiores lucros do que as da Coca-Cola, para investidores mais agressivos (investem em curto prazo)"
      ]
    },
    {
      "cell_type": "markdown",
      "source": [
        "**Valores de entrada e lucro associado:**\n",
        "\n",
        "**Insight #3 -** Levando em consideração apenas essa taxa que coloquei acima entre a diferença do investimento inicial e do seu retorno fica claro que o melhor investimento a longo prazo, seria as ações da empresa KO, porém mesmo ela, daria uma porcetagem anual de dividendos muito pequena e que não traria nenhum ganho significativo para quem investisse. \n",
        "\n",
        "Porém olhando para apenas as duas empresas, as ações da Coca-cola são as que possuem menor valor de compra e maior vantagem lucrativa"
      ],
      "metadata": {
        "id": "L5OieDVhyj7S"
      }
    },
    {
      "cell_type": "markdown",
      "source": [],
      "metadata": {
        "id": "tMctuTfxzluc"
      }
    },
    {
      "cell_type": "markdown",
      "metadata": {
        "id": "8Ubx9z_NkR5K"
      },
      "source": [
        "---"
      ]
    }
  ],
  "metadata": {
    "colab": {
      "provenance": []
    },
    "kernelspec": {
      "display_name": "Python 3",
      "name": "python3"
    }
  },
  "nbformat": 4,
  "nbformat_minor": 0
}